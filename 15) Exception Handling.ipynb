{
 "cells": [
  {
   "cell_type": "markdown",
   "id": "633a3f8c-809c-4c7d-8bbd-300305b0dd2d",
   "metadata": {},
   "source": [
    "# Errors in Python\n",
    "Errors are mistakes or fault in program\n",
    "\n",
    "#Programming error is generally known as bugs and process to remove bugs is called debugging\n",
    "\n",
    "#There are 3 types are errors:-\n",
    "* Syntax Errors\n",
    "* Logic Errors\n",
    "* Runtime Errors\n",
    "\n",
    "#Syntax Errors:-\n",
    "* A syntax error is an error in the source code of a program.\n",
    "* Since computer programs must follow strict syntax to compile correctly, any aspects of the code that do not conform to the syntax of that particular programming language will produce a syntax error.\n",
    "* Think of missing a parenthesis, or a double quote, etc. All such errors in programming syntax are called syntax errors.\n",
    "* These errors are generally caught by the compiler at the compiler time. And thus are also called compilation errors.\n",
    "\n",
    "#Logic Errors:-\n",
    "- As the name suggests, logic errors are the errors in the programming logic.\n",
    "- The logical error will cause your program to perform undesired operations that you didn't intend your program to perform.\n",
    "- These errors occur generally due to improper logic used in the program.\n",
    "- Such errors are not caught by the compiler, since they are errors in the logic that the developer has implemented. Thus, they are difficult to debug.\n",
    "- Assume that you are writing a program to find the remainder between two numbers, instead of the '%' operator, you use the '/' operator.\n",
    "- This won't be caught by the compiler and it will result in undesired results since there is an error in the logic.\n",
    "\n",
    "#Runtime Errors:-\n",
    "- Runtime errors are the errors that do not have any syntax problems, neither a problem in logic.These errors are caught at the run-time.\n",
    "- Runtime errors are generated when the program is running and leads to abnormal behavior or termination of the program.\n",
    "- The general cause of Run time errors is because your program is trying to perform an operation that is impossible to carry out.\n",
    "- For instance, Dividing any number by zero.\n",
    "- Here, the syntax might be proper, there won't be a problem in the logic as well.\n",
    "- But, this operation is not possible since we cannot divide a number by zero, and thus it will result in a runtime error.\n"
   ]
  },
  {
   "cell_type": "markdown",
   "id": "983a0306-50e2-4c46-aa1b-12577ac7f696",
   "metadata": {},
   "source": [
    "# Exception Handling\n",
    "Runtime errors are generated when the program is running and lead to abnormal behavior or termination of the program.Such errors are called Exceptions\n",
    "\n",
    "* An exception is an error that happens at the time of execution of a program.\n",
    "* However, while running a program, Python generates an exception that should be handled to avoid your program to crash.\n",
    "* Thus, it is a good idea to handle and manage these exceptions with grace rather than throwing error to the user and stopping.\n",
    "* This concept of handling run-time errors is called Exception Handling.\n",
    "\n",
    "#Following are some common examples of Exceptions,\n",
    "* Division by Zero\n",
    "* Accessing a file that does not exist\n",
    "* Addition of two incompatible types\n",
    "* Trying to access a nonexistent index of a sequence\n",
    "* Removing the table from the disconnected database server\n",
    "\n",
    "#Benefits of Exception Handling:-\n",
    "- Exception handling allows you to separate error-handling code from normal code\n",
    "- An exception is a Python object which represents an error\n",
    "- Allows you to stimulate consequences as the  error-handling takes place in one place and in one manner\n",
    "- An exception is a convenient method for handling error messages\n",
    "\n",
    "#An Exception class in python is base class from which exception inherit.This means all common built-in exception inherit from this class.Just underrstand that in case of using the named exceptions that will see in upcomming screens, we can use the exceptions class in general."
   ]
  },
  {
   "cell_type": "markdown",
   "id": "92f97487-a563-4bcc-bc66-63e7580aac51",
   "metadata": {},
   "source": [
    "# Common Exceptions\n",
    "Below are some of the common exceptions in Python,\n",
    "* StandardError - It is the base class for all  built-in exceptions except Stoplteration and SystemExit.\n",
    "* ArithmeticError - It is the base class for all errors that occur for numeric calculation.\n",
    "* Floating PointError - It is raised when a floating-point calculation fails.\n",
    "* Zero DivisionError - It is raised when a division or modulo by zero takes place for all numeric types.\n",
    "* EOFError - It is raised when there is no input  from the input() function and the end of the file is reached.\n",
    "* ImportError - It is raised when an import statement fails.\n",
    "* KeyboardInterrupt - It is raised when the user  interrupts program execution, usually by pressing Ctrl+c.\n",
    "* Index Error - It is raised when an index is notfound in a sequence.\n",
    "* NameError - It is raised when an identifier is not found in the local or global namespace.\n",
    "* IOError - It is raised when an input/output operation fails, such as the print statement or the open() function when trying to open a file that does not exist.\n",
    "* SyntaxError - It is raised when there is an error in Python syntax.\n",
    "* IndentationError - It is raised when indentation is not specified properly.\n",
    "* TypeError - It is raised when an operation or  function is attempted that is invalid for the specified data type.\n",
    "* ValueError - It is raised when the built-in function for a data type has the valid type of arguments, but the arguments have invalid values specified."
   ]
  },
  {
   "cell_type": "markdown",
   "id": "70833f0d-929c-45e2-8c3d-24d261b56c75",
   "metadata": {},
   "source": [
    "# Handling Exceptions\n",
    "There are 2statements that help us to handle and work wuth exceptions,\n",
    "* Try Statement : Run the Code\n",
    "* Except Statement : Execute this code when there is an exception.\n",
    "\n",
    "## Try Statement \n",
    "* In Python, exceptions can be handled using a try statement.The critical operation which can raise an exception is placed inside the try clause.\n",
    "* As the name suggests, it will try to execute that particular piece of code. If the exception is raised, it will be passed to the except statement.\n",
    "## Except Statement \n",
    "* The except statement handles the exception as elegantly as possible.\n",
    "* If the exceptions are not raised, the statements inside the try block are executed and the control is passed to the next statements.\n",
    "\n",
    "#Syntax\n",
    "Let's have a look at the syntax of the try-except block in Python.\n",
    "\n",
    "try:\n",
    "\n",
    "#statements that can raise the error\n",
    "\n",
    "except Exception1:\n",
    "\n",
    "#If there is Exception1, then this block will be executed\n",
    "\n",
    "except Exception2:\n",
    "\n",
    "#If there is Exception2, then this block will be executed\n",
    "\n",
    "## Key Pts\n",
    "Following are some key points, that you should keep in mind while working with try-catch,\n",
    "* A single try block can have multiple except\n",
    "* blocks. Thus, if the try block throws multiple exceptions, they can be handled respectively.\n",
    "* You can also provide a generic except clause, which handles any exception. Here, we can use the Exception class as we have seen in the previous chapter.\n",
    "* Also, after the except clause, you can include an else-clause. The code in the else-block executes if the code in the try: block does not raise any exception."
   ]
  },
  {
   "cell_type": "code",
   "execution_count": 20,
   "id": "b2bb8a53-426a-45be-bcf0-7c362c514b3f",
   "metadata": {},
   "outputs": [
    {
     "name": "stdout",
     "output_type": "stream",
     "text": [
      "Some error occur.Please contact the developer\n"
     ]
    }
   ],
   "source": [
    "# Eg of Above\n",
    "# Example 1(a)\n",
    "try:\n",
    "    print(name)\n",
    "except NameError:\n",
    "    print(\"Some error occur.Please contact the developer\")"
   ]
  },
  {
   "cell_type": "code",
   "execution_count": 27,
   "id": "7131b6a0-c461-40b6-bff7-1d68b78f17d5",
   "metadata": {},
   "outputs": [
    {
     "name": "stdout",
     "output_type": "stream",
     "text": [
      "Some error occur.Please contact the developer: name 'name' is not defined\n"
     ]
    }
   ],
   "source": [
    "# A bit more to Define and describe error\n",
    "# Example 1(b)\n",
    "try:\n",
    "try:\n",
    "    print(name)\n",
    "except NameError as e:\n",
    "    print(\"Some error occur.Please contact the developer:\",e)"
   ]
  },
  {
   "cell_type": "code",
   "execution_count": 35,
   "id": "4b329946-e714-452b-9899-b4ed5fd094dd",
   "metadata": {},
   "outputs": [
    {
     "name": "stdout",
     "output_type": "stream",
     "text": [
      "Python\n"
     ]
    }
   ],
   "source": [
    "# Eg with name variable\n",
    "# Example 1(c)\n",
    "name = \"Python\"\n",
    "try:\n",
    "    print(name)\n",
    "except NameError as e:\n",
    "    print(\"Some error occur.Please contact the developer:\",e)"
   ]
  },
  {
   "cell_type": "code",
   "execution_count": 43,
   "id": "e9d58699-21fe-4fd7-b2fd-5b79a37ece48",
   "metadata": {},
   "outputs": [
    {
     "name": "stdin",
     "output_type": "stream",
     "text": [
      "Enter the 1st number: 10\n",
      "Enter the 2nd number: 0\n"
     ]
    },
    {
     "ename": "ZeroDivisionError",
     "evalue": "division by zero",
     "output_type": "error",
     "traceback": [
      "\u001b[1;31m---------------------------------------------------------------------------\u001b[0m",
      "\u001b[1;31mZeroDivisionError\u001b[0m                         Traceback (most recent call last)",
      "Cell \u001b[1;32mIn[43], line 4\u001b[0m\n\u001b[0;32m      2\u001b[0m number1\u001b[38;5;241m=\u001b[39m\u001b[38;5;28mint\u001b[39m(\u001b[38;5;28minput\u001b[39m(\u001b[38;5;124m\"\u001b[39m\u001b[38;5;124mEnter the 1st number:\u001b[39m\u001b[38;5;124m\"\u001b[39m))\n\u001b[0;32m      3\u001b[0m number2\u001b[38;5;241m=\u001b[39m\u001b[38;5;28mint\u001b[39m(\u001b[38;5;28minput\u001b[39m(\u001b[38;5;124m\"\u001b[39m\u001b[38;5;124mEnter the 2nd number:\u001b[39m\u001b[38;5;124m\"\u001b[39m))\n\u001b[1;32m----> 4\u001b[0m \u001b[38;5;28mprint\u001b[39m(\u001b[38;5;124m\"\u001b[39m\u001b[38;5;124mDivision is:\u001b[39m\u001b[38;5;124m\"\u001b[39m,number1\u001b[38;5;241m/\u001b[39mnumber2)\n",
      "\u001b[1;31mZeroDivisionError\u001b[0m: division by zero"
     ]
    }
   ],
   "source": [
    "# Example 2(a)\n",
    "number1=int(input(\"Enter the 1st number:\"))\n",
    "number2=int(input(\"Enter the 2nd number:\"))\n",
    "print(\"Division is:\",number1/number2)"
   ]
  },
  {
   "cell_type": "code",
   "execution_count": 45,
   "id": "ab54db9c-d30f-4af6-aa7d-f2e984fdb6ac",
   "metadata": {},
   "outputs": [
    {
     "name": "stdin",
     "output_type": "stream",
     "text": [
      "Enter the 1st number: 10\n",
      "Enter the 2nd number: 0\n"
     ]
    },
    {
     "name": "stdout",
     "output_type": "stream",
     "text": [
      "OOps number cannot divide by 0\n"
     ]
    }
   ],
   "source": [
    "# Example 2(b)\n",
    "try:\n",
    "    number1=int(input(\"Enter the 1st number:\"))\n",
    "    number2=int(input(\"Enter the 2nd number:\"))\n",
    "    print(\"Division is:\",number1/number2)\n",
    "except Exception as e:\n",
    "    print(\"OOps number cannot divide by 0\")"
   ]
  },
  {
   "cell_type": "code",
   "execution_count": 58,
   "id": "793a9be5-bd27-4d34-b331-ec0774739c06",
   "metadata": {},
   "outputs": [
    {
     "name": "stdin",
     "output_type": "stream",
     "text": [
      "Enter the 1st number: 10\n",
      "Enter the 2nd number: 0\n"
     ]
    },
    {
     "name": "stdout",
     "output_type": "stream",
     "text": [
      "OOps number cannot divide by 0\n"
     ]
    }
   ],
   "source": [
    "# Adding Extra code\n",
    "# Example 2(c)\n",
    "try:\n",
    "    number1=int(input(\"Enter the 1st number:\"))\n",
    "    number2=int(input(\"Enter the 2nd number:\"))\n",
    "    print(\"Division is:\",number1/number2)\n",
    "    print(\"Thank u for using our calculator\")\n",
    "except Exception as e:\n",
    "    print(\"OOps number cannot divide by 0\")"
   ]
  },
  {
   "cell_type": "markdown",
   "id": "5d46a144-54c9-4114-bc2f-13d866ef0649",
   "metadata": {},
   "source": [
    "## Finally Statement\n",
    "Thus, there are situations where we need to execute some part of the code irrespective of whether the exception is raised or not.\n",
    "- In such cases, we can use the Python finally statement\n",
    "- The finally block is a place to put any code that must execute, irrespective of whether the try- block raised an exception or not.\n",
    "- Thus, we can use the finally statement to execute a particular part of the code after the try-exceptis done.\n",
    "#Note that finally block is optional."
   ]
  },
  {
   "cell_type": "code",
   "execution_count": 60,
   "id": "878ab8ef-6ddd-49c5-87f1-c3eea402853f",
   "metadata": {},
   "outputs": [
    {
     "name": "stdin",
     "output_type": "stream",
     "text": [
      "Enter the 1st number: 10\n",
      "Enter the 2nd number: 0\n"
     ]
    },
    {
     "name": "stdout",
     "output_type": "stream",
     "text": [
      "OOps number cannot divide by 0\n",
      "Thank u for using our calculator\n"
     ]
    }
   ],
   "source": [
    "# Eg of using finally statement\n",
    "try:\n",
    "    number1=int(input(\"Enter the 1st number:\"))\n",
    "    number2=int(input(\"Enter the 2nd number:\"))\n",
    "    print(\"Division is:\",number1/number2)\n",
    "except Exception as e:\n",
    "    print(\"OOps number cannot divide by 0\")\n",
    "finally:\n",
    "     print(\"Thank u for using our calculator\")"
   ]
  },
  {
   "cell_type": "markdown",
   "id": "3a0b0e02-4a2c-4d2b-a9d8-877302b3b439",
   "metadata": {},
   "source": [
    "## Raise Statement\n",
    "It is use to raise exception manually.\n",
    "\n",
    "Syntax\n",
    "- raise Exception(\"Message\")\n",
    "\n",
    "- Exception is type of exception(eg, NameError)\n",
    "- And the argument message is value of the exceptions.The argument is optional."
   ]
  },
  {
   "cell_type": "code",
   "execution_count": 75,
   "id": "f06d9820-4fcc-4b6d-88fc-5f025370bee2",
   "metadata": {},
   "outputs": [
    {
     "name": "stdin",
     "output_type": "stream",
     "text": [
      "Enter a Positive integer: 0\n"
     ]
    },
    {
     "name": "stdout",
     "output_type": "stream",
     "text": [
      "It is not a positive number\n"
     ]
    }
   ],
   "source": [
    "try:\n",
    "    a=int(input(\"Enter a Positive integer:\"))\n",
    "    if a<=0:\n",
    "        raise ValueError(\"It is not a positive number\")\n",
    "except ValueError as e:\n",
    "    print(e)"
   ]
  },
  {
   "cell_type": "code",
   "execution_count": null,
   "id": "76edd4e1-c2e0-44ef-a222-019879b379ee",
   "metadata": {},
   "outputs": [],
   "source": []
  }
 ],
 "metadata": {
  "kernelspec": {
   "display_name": "Python 3 (ipykernel)",
   "language": "python",
   "name": "python3"
  },
  "language_info": {
   "codemirror_mode": {
    "name": "ipython",
    "version": 3
   },
   "file_extension": ".py",
   "mimetype": "text/x-python",
   "name": "python",
   "nbconvert_exporter": "python",
   "pygments_lexer": "ipython3",
   "version": "3.12.4"
  }
 },
 "nbformat": 4,
 "nbformat_minor": 5
}
