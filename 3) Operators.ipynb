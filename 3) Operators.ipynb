{
 "cells": [
  {
   "cell_type": "markdown",
   "id": "1c1a0883-5798-4141-8a93-4b6ccdad1422",
   "metadata": {},
   "source": [
    "# Arithmetic operators:-\n",
    "* (+)Addition, (-)Substraction, (/)Divsion, (*)Multiplication\n",
    "* (**)Exponent : Does power calculations\n",
    "* (%)Modulus : Returns Remainder\n",
    "* (//)Floor divison or Truncation : Returns Quotient"
   ]
  },
  {
   "cell_type": "code",
   "execution_count": 48,
   "id": "4c6d4221-daa5-4b4f-b825-11d9030d4ced",
   "metadata": {},
   "outputs": [
    {
     "name": "stdout",
     "output_type": "stream",
     "text": [
      "Exponent is 729\n"
     ]
    }
   ],
   "source": [
    "#Eg of (**)Exponent\n",
    "a = 9\n",
    "b = 3\n",
    "c = a ** b\n",
    "print(\"Exponent is\",c)"
   ]
  },
  {
   "cell_type": "code",
   "execution_count": 50,
   "id": "2d69b48d-851d-42b6-9ff4-87385b7b253e",
   "metadata": {},
   "outputs": [
    {
     "name": "stdout",
     "output_type": "stream",
     "text": [
      "Exponent is 512\n"
     ]
    }
   ],
   "source": [
    "#Eg of (**)Exponent\n",
    "exponent = 8\n",
    "base = 3\n",
    "result = exponent ** base\n",
    "print(\"Exponent is\",result)"
   ]
  },
  {
   "cell_type": "code",
   "execution_count": 52,
   "id": "83259684-7dc6-448b-9b59-e1e5049d0a75",
   "metadata": {},
   "outputs": [
    {
     "name": "stdout",
     "output_type": "stream",
     "text": [
      "Modulus is 1\n"
     ]
    }
   ],
   "source": [
    "#Eg of(%)Modulus\n",
    "a = 10\n",
    "b = 3\n",
    "c = a % b\n",
    "print(\"Modulus is\",c)"
   ]
  },
  {
   "cell_type": "code",
   "execution_count": 54,
   "id": "e7af20d9-d9ce-490c-a190-7dce94e3834a",
   "metadata": {},
   "outputs": [
    {
     "name": "stdout",
     "output_type": "stream",
     "text": [
      "Floor division is 3\n"
     ]
    }
   ],
   "source": [
    "#Eg of (//)Floor division\n",
    "a = 10\n",
    "b = 3\n",
    "c = a // b\n",
    "print(\"Floor division is\",c)"
   ]
  },
  {
   "cell_type": "code",
   "execution_count": 57,
   "id": "152ff377-d2f3-4e7d-9866-a54c2840e5d4",
   "metadata": {},
   "outputs": [
    {
     "name": "stdout",
     "output_type": "stream",
     "text": [
      "103\n",
      "97\n",
      "33.333333333333336\n",
      "300\n",
      "1000000\n",
      "1\n",
      "33\n"
     ]
    }
   ],
   "source": [
    "#Eg of all Arithmetic operators\n",
    "num1 = 100\n",
    "num2 = 3\n",
    "print(num1+num2)\n",
    "print(num1-num2)\n",
    "print(num1/num2)\n",
    "print(num1*num2)\n",
    "print(num1**num2)\n",
    "print(num1%num2)\n",
    "print(num1//num2)"
   ]
  },
  {
   "cell_type": "markdown",
   "id": "dd0dfdd0-9872-4bc5-a4d1-c059fc70df5d",
   "metadata": {},
   "source": [
    "# Logical Operators:-\n",
    "* and : returns true if both operands are true\n",
    "* or : returns true if one operands are true\n",
    "* not : returns true if operand is false"
   ]
  },
  {
   "cell_type": "code",
   "execution_count": 95,
   "id": "848fc6e9-6bcc-4f81-ae3e-5e7d2a159dd5",
   "metadata": {},
   "outputs": [
    {
     "name": "stdout",
     "output_type": "stream",
     "text": [
      "x and y is False\n",
      "x or y is True\n",
      "x not y is False\n"
     ]
    }
   ],
   "source": [
    "#Eg of Logical Operators\n",
    "x = True\n",
    "y = False\n",
    "print('x and y is',x and y)\n",
    "print('x or y is',x or y)\n",
    "print('x not y is',not x)"
   ]
  },
  {
   "cell_type": "code",
   "execution_count": 3,
   "id": "a627fdb2-8dae-4db2-9406-d184f151ac66",
   "metadata": {},
   "outputs": [
    {
     "name": "stdout",
     "output_type": "stream",
     "text": [
      "True\n",
      "True\n",
      "False\n"
     ]
    }
   ],
   "source": [
    "#Eg of Logical Operators\n",
    "num1 = 10\n",
    "num2 = 8\n",
    "num3 = 11\n",
    "print(num1>num2 or num1<num2)\n",
    "print(num1>num2 and num1<num3)\n",
    "print(not num1)"
   ]
  },
  {
   "cell_type": "markdown",
   "id": "8c76f5b0-c367-4c2f-924d-bc0fdb27b3a9",
   "metadata": {},
   "source": [
    "# Special operators:-\n",
    "* Membership operators\n",
    "* Identity operators\n",
    "\n",
    "# Membership operators:-\n",
    "* in : returns True if the value found in sequence\n",
    "* not in : returns True if the value not found in sequence\n",
    "\n",
    "# Identity operators:-\n",
    "* id() method : returns the memory address\n",
    "* is : returns True if the operands are identical\n",
    "* not is : returns True if the operands are not identical"
   ]
  },
  {
   "cell_type": "code",
   "execution_count": 131,
   "id": "779a1a54-89cf-46ed-a3fc-3609030a12ed",
   "metadata": {},
   "outputs": [
    {
     "name": "stdout",
     "output_type": "stream",
     "text": [
      "True\n",
      "False\n",
      "False\n",
      "True\n"
     ]
    }
   ],
   "source": [
    "#Eg of Membership operators\n",
    "name = 'pythonx'\n",
    "print('x' in name)\n",
    "print('s' in name)\n",
    "print('x' not in name)\n",
    "print('s' not in name)"
   ]
  },
  {
   "cell_type": "code",
   "execution_count": 145,
   "id": "1aebc516-89a8-4e8b-8bf3-9b53ea3dd133",
   "metadata": {},
   "outputs": [
    {
     "name": "stdout",
     "output_type": "stream",
     "text": [
      "140713590930136\n"
     ]
    }
   ],
   "source": [
    "#Eg of id() method\n",
    "num = 10\n",
    "print(id(num))"
   ]
  },
  {
   "cell_type": "code",
   "execution_count": 157,
   "id": "11877845-0e55-463f-9a8c-6a87157247da",
   "metadata": {},
   "outputs": [
    {
     "name": "stdout",
     "output_type": "stream",
     "text": [
      "140713590929976\n",
      "140713590929976\n",
      "140713590930008\n",
      "True\n",
      "False\n",
      "False\n",
      "True\n"
     ]
    }
   ],
   "source": [
    "#Eg of Identity operator\n",
    "num1 = 5\n",
    "num2 = 5\n",
    "num3 = 6\n",
    "print(id(num1))\n",
    "print(id(num2))\n",
    "print(id(num3))\n",
    "print(num1 is num2)\n",
    "print(num1 is num3)\n",
    "print(num1 is not num2)\n",
    "print(num1 is not num3)"
   ]
  },
  {
   "cell_type": "markdown",
   "id": "a1ae7965-eca1-4f52-bd94-127099807024",
   "metadata": {},
   "source": [
    "# Walrus operator(:=):-\n",
    "* It is the way to assign to variables within an expression using the notation(Makes codes Shorter)."
   ]
  },
  {
   "cell_type": "code",
   "execution_count": 193,
   "id": "823d504d-e572-426e-afaa-9e24736be2a5",
   "metadata": {},
   "outputs": [
    {
     "name": "stdout",
     "output_type": "stream",
     "text": [
      "Sam\n"
     ]
    }
   ],
   "source": [
    "#Eg of Walrus operator\n",
    "print(name:='Sam')"
   ]
  },
  {
   "cell_type": "code",
   "execution_count": null,
   "id": "c9b616d6-2856-42a3-9d88-ec4c09296f91",
   "metadata": {},
   "outputs": [],
   "source": []
  }
 ],
 "metadata": {
  "kernelspec": {
   "display_name": "Python 3 (ipykernel)",
   "language": "python",
   "name": "python3"
  },
  "language_info": {
   "codemirror_mode": {
    "name": "ipython",
    "version": 3
   },
   "file_extension": ".py",
   "mimetype": "text/x-python",
   "name": "python",
   "nbconvert_exporter": "python",
   "pygments_lexer": "ipython3",
   "version": "3.12.4"
  }
 },
 "nbformat": 4,
 "nbformat_minor": 5
}
