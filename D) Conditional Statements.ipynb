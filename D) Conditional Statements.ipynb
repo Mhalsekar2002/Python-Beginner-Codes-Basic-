{
 "cells": [
  {
   "cell_type": "markdown",
   "id": "9bd1fda9-0d80-4600-90c1-c8234dcb8643",
   "metadata": {},
   "source": [
    "# Conditional Statements:-\n",
    "* If statement : #statements to be executed if the condition is True\n",
    "* If-else statement :  \n",
    "* If: #statements to be executed if the condition is True\n",
    "* else: #statements to be executed if the condition is False\n",
    "* If-elif-else statement :\n",
    "* elif: Check multiple expression for True\n",
    "* Nested If-else statement :\n",
    "* Check for another conditn afer a conditn resolves to be True.\n",
    "* U can have if-elif-else construct inside another if-elif-else construct.\n",
    "* Any num of statements can be nested inside one another.Identation is the only way to figure out the lvl of nesting."
   ]
  },
  {
   "cell_type": "code",
   "execution_count": 7,
   "id": "dba6d9e9-6974-4e25-85ac-996857ef8212",
   "metadata": {},
   "outputs": [
    {
     "name": "stdin",
     "output_type": "stream",
     "text": [
      "Enter your age 15\n"
     ]
    }
   ],
   "source": [
    "#Eg of If statement\n",
    "age=int(input(\"Enter your age\"))\n",
    "if age>=18:\n",
    "    print(\"Congratulations, you are eligible to vote\")"
   ]
  },
  {
   "cell_type": "code",
   "execution_count": 11,
   "id": "a2aa60ce-0a1e-4905-9108-3cb3ee53c2e0",
   "metadata": {},
   "outputs": [
    {
     "name": "stdin",
     "output_type": "stream",
     "text": [
      "Enter your age 15\n"
     ]
    },
    {
     "name": "stdout",
     "output_type": "stream",
     "text": [
      "Sorry, you are not eligible to vote\n"
     ]
    }
   ],
   "source": [
    "#Eg of If-else statement\n",
    "age=int(input(\"Enter your age\"))\n",
    "if age>=18:\n",
    "    print(\"Congratulations, you are eligible to vote\")\n",
    "else:\n",
    "    print(\"Sorry, you are not eligible to vote\")"
   ]
  },
  {
   "cell_type": "code",
   "execution_count": 25,
   "id": "ca9b1d7c-56cf-4f99-aed4-dd3ca7a536b2",
   "metadata": {},
   "outputs": [
    {
     "name": "stdin",
     "output_type": "stream",
     "text": [
      "Enter your marks: 95\n"
     ]
    },
    {
     "name": "stdout",
     "output_type": "stream",
     "text": [
      "Grade = Excellent\n"
     ]
    }
   ],
   "source": [
    "#Eg of If-elif-else statement\n",
    "marks = int(input(\"Enter your marks:\"))\n",
    "if marks>=90:\n",
    "    print(\"Grade = Excellent\")\n",
    "elif marks<90 and marks>=75:\n",
    "    print(\"Grade = First Class\")\n",
    "elif marks<75 and marks>=40:\n",
    "  print(\"Grade = Average\")\n",
    "else: \n",
    "    print(\"Grade = Fail\")"
   ]
  },
  {
   "cell_type": "code",
   "execution_count": 84,
   "id": "efa2f6d3-6920-48d3-bdfa-6fec3aeaa5f8",
   "metadata": {},
   "outputs": [
    {
     "name": "stdin",
     "output_type": "stream",
     "text": [
      "Enter your username: John\n",
      "Enter your password: 12345\n"
     ]
    },
    {
     "name": "stdout",
     "output_type": "stream",
     "text": [
      "Login Successful\n"
     ]
    }
   ],
   "source": [
    "#Eg of Nested If-else \n",
    "username = input(\"Enter your username:\")\n",
    "password = input(\"Enter your password:\")\n",
    "if username == \"John\":\n",
    "    if password == \"12345\":\n",
    "        print(\"Login Successful\")\n",
    "    else:\n",
    "        print(\"Incorrect Password\")\n",
    "else:\n",
    "    print(\"User Not Found\")"
   ]
  },
  {
   "cell_type": "code",
   "execution_count": 99,
   "id": "0457a449-7530-422d-b4a1-5e736ff97e53",
   "metadata": {},
   "outputs": [
    {
     "name": "stdin",
     "output_type": "stream",
     "text": [
      "Which color is the light indicating? Yellow\n"
     ]
    },
    {
     "name": "stdout",
     "output_type": "stream",
     "text": [
      "Please go slow\n"
     ]
    }
   ],
   "source": [
    "#Eg of Conditional statement\n",
    "light=input(\"Which color is the light indicating?\")\n",
    "if light == \"Green\":\n",
    "  print(\"Please keep going\")\n",
    "elif light == \"Yellow\":\n",
    " print(\"Please go slow\")\n",
    "else: \n",
    "   print(\"Please stop!\")"
   ]
  },
  {
   "cell_type": "code",
   "execution_count": 109,
   "id": "7e85dce2-0190-48e1-916e-e9845153fcd8",
   "metadata": {},
   "outputs": [
    {
     "name": "stdout",
     "output_type": "stream",
     "text": [
      "User One scored the highest points!\n"
     ]
    }
   ],
   "source": [
    "#Eg of Conditional statement\n",
    "userOne = 9\n",
    "userTwo = 4\n",
    "userThree = 7\n",
    "if(userOne>userTwo) and (userOne>userThree):\n",
    "  print(\"User One scored the highest points!\")\n",
    "elif(userTwo>userOne) and (userTwo>userThree):\n",
    "  print(\"User Two scored the highest points!\")\n",
    "else:\n",
    "  print(\"User Three scored the highest points!\")"
   ]
  },
  {
   "cell_type": "code",
   "execution_count": 133,
   "id": "278338ff-28d5-462e-911a-169450d07aeb",
   "metadata": {},
   "outputs": [
    {
     "name": "stdout",
     "output_type": "stream",
     "text": [
      "It is an even number\n"
     ]
    }
   ],
   "source": [
    "#Eg of Conditional statement\n",
    "num = -4\n",
    "if num%2 == 0:\n",
    "    print(\"It is an even number\")\n",
    "else:\n",
    "    print(\"It is an odd number\")"
   ]
  },
  {
   "cell_type": "code",
   "execution_count": null,
   "id": "2519ffd3-a37a-4711-adad-20bd41c69edf",
   "metadata": {},
   "outputs": [],
   "source": []
  }
 ],
 "metadata": {
  "kernelspec": {
   "display_name": "Python 3 (ipykernel)",
   "language": "python",
   "name": "python3"
  },
  "language_info": {
   "codemirror_mode": {
    "name": "ipython",
    "version": 3
   },
   "file_extension": ".py",
   "mimetype": "text/x-python",
   "name": "python",
   "nbconvert_exporter": "python",
   "pygments_lexer": "ipython3",
   "version": "3.12.4"
  }
 },
 "nbformat": 4,
 "nbformat_minor": 5
}
