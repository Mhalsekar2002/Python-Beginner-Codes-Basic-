{
 "cells": [
  {
   "cell_type": "markdown",
   "id": "87372d3d-b47a-4a86-b890-2a6460a53c08",
   "metadata": {
    "jp-MarkdownHeadingCollapsed": true
   },
   "source": [
    "# Files :-\n",
    "* Files are store permanently in non-volatile memeory such as hard-disk.\n",
    "* Variables and othrt structure store data in RAM(Volatile Memory)\n",
    "\n",
    "#We can handle such files and manipulate them using \n",
    "* There are 3 Steps that come in action:-\n",
    "1) Opening File\n",
    "2) Performing Action(Reading or Writing)\n",
    "3) Closing File"
   ]
  },
  {
   "cell_type": "markdown",
   "id": "15015fb5-505b-41bf-aa52-255fd6bf5b6b",
   "metadata": {},
   "source": [
    "# 1st Opening File\n",
    "The open() function\n",
    "* Python provides a built-in open() function to open a file. It returns the file object that can later be used to perform various file operations.\n",
    "\n",
    "- Following is the syntax to open the file:-\n",
    "-  file_object = open(file_name, access_mode)\n",
    "   \n",
    "In general, the open function has two parameters,\n",
    "* file_name: It is the name of the file with the file extension. Instead of the file name, we can also add the absolute path of the file on our local machine.\n",
    "* access_mode: It defines the mode in which the file has been opened. We will learn about these access modes in the upcoming screens.\n",
    "\n",
    "Here, file_object is just an object or a variable that holds and represents this file and later can be used to perform various actions.\n",
    "\n",
    "## Access Mode\n",
    "* When we open file, we need to mention the mode in which we want to open the file.This modes define the operations that can be performed on files.\n",
    "\n",
    "Following are file access modes in Python\n",
    "* Read Mode\n",
    "* Write Mode\n",
    "* Append Mode\n",
    "\n",
    "## Read Mode\n",
    "#When we want to read a file, we need to open the file in read mode. The following are the read modes in Python:-\n",
    "* r - It opens a file in read-only mode. The file  pointer is placed at the beginning of the file. This is the default mode.\n",
    "* rb - It opens a file for reading only in binary format. The file pointer is placed at the beginning of the file.\n",
    "* r+ - It opens a file for both reading and writing.The file pointer placed at the beginning of thefile. \n",
    "* rb+ - It opens a file for both reading and writing in binary format. The file pointer placed at the beginning of the file.\n",
    "\n",
    "## Write Mode\n",
    "#Whenever we wish to write some data to a file, we can open the file in write mode. The following are the write modes in Python:-\n",
    "- w - It opens a file in write-only mode. It will overwrite the file if the file exists. If the file does not exist, it will create a new file for writing.\n",
    "- wb - It opens a file for writing only in binary format. It will overwrite the file if the file exists. If the file does not exist, it will create a new file for writing.\n",
    "- w+ - It opens a file for both writing and reading. It will overwrite the existing file if the file exists. If the file does not exist, It will create a new file for reading and writing.\n",
    "- wb+ - It opens a file for both writing and reading in binary format. It will overwrite the • existing file if the file exists. If the file does not exist, it will create a new file for reading and writing.\n",
    "\n",
    "## Append Mode\n",
    "#As we have seen, if we want to write to a file, we can open it in the write mode. But, in the write mode, the content of the file gets overwritten.\n",
    "If you want to avoid that and continue writing the data after the previous content, then we canuse the append mode.\n",
    "\n",
    "#In simple words, append means add at the end.\n",
    "\n",
    "#Following are the append modes in Python,\n",
    "* a - It opens a file for appending. The file pointer is at the end of the file if the file exists. If the file does not exist, it creates a new file for writing.\n",
    "* ab - It opens a file for appending in binary format. The file pointer is at the end of the file if the file exists. If the file does not exist, it creates a new file for writing.\n",
    "* a+ - It opens a file for both appending and reading. The file pointer is at the end of the file if the file exists. If the file does not exist, it creates a new file for reading and writing.\n",
    "* ab+ - It opens a file for both appending and reading in binary format. The file pointer is at • the end of the file if the file exists. If the file does not exist, it creates a new file for reading and writing.\n"
   ]
  },
  {
   "cell_type": "markdown",
   "id": "13fcc69b-7a3d-419b-8feb-8e841e7b6d8a",
   "metadata": {},
   "source": [
    "# 2nd Reading Data from Files\n",
    "## Read Mode\n",
    "#When we want to read a file, we need to open the file in read mode. The following are the read modes in Python:-\n",
    "* r - It opens a file in read-only mode. The file  pointer is placed at the beginning of the file. This is the default mode.\n",
    "* rb - It opens a file for reading only in binary format. The file pointer is placed at the beginning of the file.\n",
    "* r+ - It opens a file for both reading and writing.The file pointer placed at the beginning of thefile. \n",
    "* rb+ - It opens a file for both reading and writing in binary format. The file pointer placed at the beginning of the file.\n",
    "\n",
    "* Syntax :-\n",
    "  fp=open(\"python.txt\",'r')\n",
    "* fp is file object.We have opened the file \"python.txt\" in the \"r\" mode that is read mode.\n",
    "\n",
    "#Once the file is opened in read mode, the next step is to read the content of the file.\n",
    "* Python provides a few built-in methods to read the content of the file. These methods are,\n",
    "* read() - The read() method reads a string from  an open file. It reads the content until it reaches the end of the file.\n",
    "* read(size) - This method accepts a parameter as the size. The passed parameter is the number of bytes to be read from the opened file. This method * * starts reading from the beginning of the file until the number of bytes specified.\n",
    "* readline() - It reads one single line of the file at a time.\n",
    "* readlines() - It reads all the lines until it reaches the end of the file."
   ]
  },
  {
   "cell_type": "code",
   "execution_count": 42,
   "id": "d29a65fc-8092-4d52-b778-4bc182ecafa7",
   "metadata": {},
   "outputs": [
    {
     "name": "stdout",
     "output_type": "stream",
     "text": [
      "Pyth\n"
     ]
    }
   ],
   "source": [
    "#Eg of Above\n",
    "# Create a file named python.txt and write some content to it\n",
    "with open(\"python.txt\", 'w') as file:\n",
    "    file.write(\"Python is general purpose, OOP language.We all love Python\")\n",
    "# Open the file in read mode and print its contents\n",
    "with open(\"python.txt\", 'r') as fp:\n",
    "    print(fp.readline(4))\n"
   ]
  },
  {
   "cell_type": "code",
   "execution_count": 18,
   "id": "42605008-b41d-4b85-b6ab-e7228fb0e695",
   "metadata": {},
   "outputs": [
    {
     "name": "stdout",
     "output_type": "stream",
     "text": [
      "Py\n"
     ]
    }
   ],
   "source": [
    "# Eg of Above\n",
    "fp = open(\"python.txt\",'r')\n",
    "print(fp.read(2))"
   ]
  },
  {
   "cell_type": "markdown",
   "id": "18b217ec-024f-4445-8ded-0ea2a643f5c9",
   "metadata": {},
   "source": [
    "# 3rd Writing to a File\n",
    "## Write Mode\n",
    "#Whenever we wish to write some data to a file, we can open the file in write mode. The following are the write modes in Python:-\n",
    "- w - It opens a file in write-only mode. It will overwrite the file if the file exists. If the file does not exist, it will create a new file for writing.\n",
    "- wb - It opens a file for writing only in binary format. It will overwrite the file if the file exists. If the file does not exist, it will create a new file for writing.\n",
    "- w+ - It opens a file for both writing and reading. It will overwrite the existing file if the file exists. If the file does not exist, It will create a new file for reading and writing.\n",
    "- wb+ - It opens a file for both writing and reading in binary format. It will overwrite the • existing file if the file exists. If the file does not exist, it will create a new file for reading and writing.\n",
    "\n",
    "* write() method is used to write to a file.\n",
    "\n",
    "#Following is the syntax\n",
    "* file_object.wite(data)\n",
    "\n",
    "#There are situations where we need to continue writing from the end of previous content rather than overwriting the contents of the file.\n",
    "In such situations, we can use the append mode. Here, the file pointer is at the end of the file, thus we can continue writing from the end of previous content\n",
    "\n",
    "## Append it!\n",
    "#As we have seen, if we want to write to a file, we can open it in the write mode. But, in the write mode, the content of the file gets overwritten.\n",
    "If you want to avoid that and continue writing the data after the previous content, then we canuse the append mode.\n",
    "\n",
    "#In simple words, append means add at the end.\n",
    "\n",
    "#Following are the append modes in Python,\n",
    "* a - It opens a file for appending. The file pointer is at the end of the file if the file exists. If the file does not exist, it creates a new file for writing.\n",
    "* ab - It opens a file for appending in binary format. The file pointer is at the end of the file if the file exists. If the file does not exist, it creates a new file for writing.\n",
    "* a+ - It opens a file for both appending and reading. The file pointer is at the end of the file if the file exists. If the file does not exist, it creates a new file for reading and writing.\n",
    "* ab+ - It opens a file for both appending and reading in binary format. The file pointer is at • the end of the file if the file exists. If the file does not exist, it creates a new file for reading and writing.\n",
    "\n",
    "\n"
   ]
  },
  {
   "cell_type": "code",
   "execution_count": 21,
   "id": "80020f6d-1434-4fe0-9bd8-6d98e4b486df",
   "metadata": {},
   "outputs": [
    {
     "name": "stdout",
     "output_type": "stream",
     "text": [
      "PythonX is the Best\n"
     ]
    }
   ],
   "source": [
    "#Eg of Above\n",
    "\n",
    "# Write to the file\n",
    "fp = open(\"python.txt\", 'w')\n",
    "fp.write(\"PythonX is the Best\")\n",
    "\n",
    "# Read and print the contents of the file\n",
    "fp = open(\"python.txt\", 'r')\n",
    "print(fp.read())"
   ]
  },
  {
   "cell_type": "markdown",
   "id": "7ac2218d-b72d-486c-a211-b079529d060a",
   "metadata": {},
   "source": [
    "# 4th Closing File\n",
    "* close() method is used to close the file.\n",
    "\n",
    "#Following is the syntax\n",
    "file_object.close()"
   ]
  },
  {
   "cell_type": "code",
   "execution_count": 30,
   "id": "1f332070-348e-4140-8fa4-3851ba1ad1ad",
   "metadata": {},
   "outputs": [
    {
     "name": "stdout",
     "output_type": "stream",
     "text": [
      "PythonX is the Best\n"
     ]
    }
   ],
   "source": [
    "#Eg of Above\n",
    "fp=open(\"python.txt\",'r')\n",
    "print(fp.read())\n",
    "fp.close()"
   ]
  },
  {
   "cell_type": "markdown",
   "id": "43595ec6-3b48-4894-8d3a-266032aad6a4",
   "metadata": {},
   "source": [
    "# 5th Manipulating Files Pointer\n",
    "* The File pointer is basically the cursor that represents the position where it is in file\n",
    "* It is at beginning while writing to a file.\n",
    "\n",
    "#Python provides the following methods to manipulate and fetch the file pointer position,\n",
    "* tell(): The tell() method tells you the current position of the pointer within the file.\n",
    "* seek (position, from): The seek() method changes the current file position. The position argument indicates the number of bytes to be moved. The 'from' argument (which is not mandatory to be mentioned) specifies the reference position from where the bytes are to be moved."
   ]
  },
  {
   "cell_type": "code",
   "execution_count": 54,
   "id": "41b6ece9-0258-40ea-aadc-810044340866",
   "metadata": {},
   "outputs": [
    {
     "name": "stdout",
     "output_type": "stream",
     "text": [
      "Pointer position before reading is: 0\n",
      "PythonX makes your python journey very easy.\n",
      "Pointer position after reading is: 44\n"
     ]
    }
   ],
   "source": [
    "# Write to the file\n",
    "fp = open(\"data.txt\", 'w')\n",
    "fp.write(\"PythonX makes your python journey very easy.\")\n",
    "fp.close()\n",
    "\n",
    "# Open the file in read mode and print the pointer positions and contents\n",
    "# Eg by Using tell() method\n",
    "fp = open(\"data.txt\", \"r\")\n",
    "print(\"Pointer position before reading is:\", fp.tell())\n",
    "print(fp.read())\n",
    "print(\"Pointer position after reading is:\", fp.tell())\n",
    "fp.close()"
   ]
  },
  {
   "cell_type": "code",
   "execution_count": 52,
   "id": "e0cad1d4-d5d0-4534-8e36-1d64fb629f51",
   "metadata": {},
   "outputs": [
    {
     "name": "stdout",
     "output_type": "stream",
     "text": [
      "Pointer position before is: 0\n",
      "Pointer position after manipulating is: 5\n"
     ]
    }
   ],
   "source": [
    "#Eg by Using seek() method\n",
    "fp = open(\"data.txt\", \"r\")\n",
    "print(\"Pointer position before is:\", fp.tell())\n",
    "fp.seek(5)\n",
    "print(\"Pointer position after manipulating is:\", fp.tell())\n",
    "fp.close()"
   ]
  },
  {
   "cell_type": "code",
   "execution_count": null,
   "id": "cd42c148-fab1-4a30-89ce-7da3bbcef5d9",
   "metadata": {},
   "outputs": [],
   "source": []
  },
  {
   "cell_type": "code",
   "execution_count": null,
   "id": "1b664821-2894-471e-9485-415e68be7678",
   "metadata": {},
   "outputs": [],
   "source": []
  }
 ],
 "metadata": {
  "kernelspec": {
   "display_name": "Python 3 (ipykernel)",
   "language": "python",
   "name": "python3"
  },
  "language_info": {
   "codemirror_mode": {
    "name": "ipython",
    "version": 3
   },
   "file_extension": ".py",
   "mimetype": "text/x-python",
   "name": "python",
   "nbconvert_exporter": "python",
   "pygments_lexer": "ipython3",
   "version": "3.12.4"
  }
 },
 "nbformat": 4,
 "nbformat_minor": 5
}
