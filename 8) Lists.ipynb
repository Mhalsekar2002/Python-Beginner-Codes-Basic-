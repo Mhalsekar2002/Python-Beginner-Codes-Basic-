{
 "cells": [
  {
   "cell_type": "markdown",
   "id": "39b31a82-2909-4a30-8a18-ca902c514773",
   "metadata": {},
   "source": [
    "# List\n",
    "A list allows you to store multiple values in a single variable\n",
    "\n",
    "Some features of List:-\n",
    "* Lists are ordered collection of multiple values\n",
    "* List are mutable(Changeable)\n",
    "* It allows to duplicate values\n",
    "\n",
    "* It can be use by placing sequence inside the square brackets[]\n",
    "* It can be nos of items of different types(integer, float,string)"
   ]
  },
  {
   "cell_type": "code",
   "execution_count": 1,
   "id": "9b107d5a-2c01-42a7-abcb-a33653cf1461",
   "metadata": {},
   "outputs": [],
   "source": [
    "#Eg of Lists\n",
    "list1=[1,2,3,4,5]"
   ]
  },
  {
   "cell_type": "code",
   "execution_count": 3,
   "id": "7e3a808f-a61d-487b-928f-c3e8a3308554",
   "metadata": {},
   "outputs": [
    {
     "name": "stdout",
     "output_type": "stream",
     "text": [
      "['C', 'C++', 'Python']\n"
     ]
    }
   ],
   "source": [
    "#Eg of Lists\n",
    "CourseEnrolled=[\"C\",\"C++\",\"Python\"]\n",
    "print(CourseEnrolled)"
   ]
  },
  {
   "cell_type": "raw",
   "id": "d431e9bb-ac74-4314-af7b-2158eeb357bd",
   "metadata": {},
   "source": [
    "# Manipulating list using:-\n",
    "*Acessing elements of list\n",
    "*List slicing\n",
    "*Updating List\n",
    "*Deletion elements from Lists"
   ]
  },
  {
   "cell_type": "code",
   "execution_count": 7,
   "id": "e6477e90-c9bc-4262-81c5-b8f6bcc3d4ee",
   "metadata": {},
   "outputs": [
    {
     "name": "stdout",
     "output_type": "stream",
     "text": [
      "['John', 'Raj', 'Ron', 'Tom']\n",
      "Ron\n",
      "John\n"
     ]
    }
   ],
   "source": [
    "#Eg Acessing elements of list\n",
    "names=[\"John\",\"Raj\",\"Ron\",\"Tom\"]\n",
    "print(names)\n",
    "print(names[2])\n",
    "print(names[0])"
   ]
  },
  {
   "cell_type": "code",
   "execution_count": 27,
   "id": "a81f6e64-3ffb-416f-8c7b-8b4de3a376db",
   "metadata": {},
   "outputs": [
    {
     "name": "stdout",
     "output_type": "stream",
     "text": [
      "['John', 'Raj', 'Ron', 'Tom']\n",
      "['Raj']\n",
      "['Ron', 'Tom']\n"
     ]
    }
   ],
   "source": [
    "#Eg List slicing\n",
    "names=[\"John\",\"Raj\",\"Ron\",\"Tom\"]\n",
    "print(names)\n",
    "print(names[1:2])\n",
    "print(names[2:])"
   ]
  },
  {
   "cell_type": "code",
   "execution_count": 39,
   "id": "7161f283-5f2b-4c43-ae4a-05313020c491",
   "metadata": {},
   "outputs": [
    {
     "name": "stdout",
     "output_type": "stream",
     "text": [
      "[88, 99, 66, 65]\n"
     ]
    }
   ],
   "source": [
    "#Eg of Updating List\n",
    "marks=[88,99,66,77]\n",
    "marks[3] = 65\n",
    "print(marks)"
   ]
  },
  {
   "cell_type": "code",
   "execution_count": 45,
   "id": "bca76ab6-c8eb-4b58-9e66-effae19b36f3",
   "metadata": {},
   "outputs": [
    {
     "name": "stdout",
     "output_type": "stream",
     "text": [
      "['John', 'Raj', 'Ron', 'Tom']\n",
      "['John', 'Raj', 'Tom']\n"
     ]
    }
   ],
   "source": [
    "#Eg of Deletion elements from Lists\n",
    "names=[\"John\",\"Raj\",\"Ron\",\"Tom\"]\n",
    "print(names)\n",
    "del names[2]\n",
    "print(names)"
   ]
  },
  {
   "cell_type": "markdown",
   "id": "b9424deb-d381-4a04-9e8d-dc4bda538c30",
   "metadata": {},
   "source": [
    "# List operations\n",
    "* Concatenation(+)\n",
    "* Repetition(*)\n",
    "* Membership(in)"
   ]
  },
  {
   "cell_type": "code",
   "execution_count": 47,
   "id": "5bf38efe-de4a-415a-a10b-03c4b6866793",
   "metadata": {},
   "outputs": [
    {
     "name": "stdout",
     "output_type": "stream",
     "text": [
      "[1, 2, 3, 4, 5, 7, 8, 9, 10, 11]\n",
      "[1, 2, 3, 4, 5, 1, 2, 3, 4, 5, 1, 2, 3, 4, 5]\n"
     ]
    }
   ],
   "source": [
    "# Eg of List Concatenation(+) and Repetition\n",
    "lst1=[1,2,3,4,5]\n",
    "lst2=[7,8,9,10,11]\n",
    "print(lst1+lst2)\n",
    "print(lst1*3)"
   ]
  },
  {
   "cell_type": "code",
   "execution_count": 49,
   "id": "9ffd9d4e-e1d4-4c4e-bceb-0b7d571db64a",
   "metadata": {},
   "outputs": [
    {
     "name": "stdout",
     "output_type": "stream",
     "text": [
      "False\n",
      "True\n"
     ]
    }
   ],
   "source": [
    "# Eg of List Membership \n",
    "enrolledList=[\"John\",\"Raj\",\"Ron\",\"Tom\"]\n",
    "print(\"Sam\" in enrolledList)\n",
    "print(\"Tom\" in enrolledList)"
   ]
  },
  {
   "cell_type": "code",
   "execution_count": 55,
   "id": "e8d11c1c-b2c6-4ee0-b7cb-12bd94bb4357",
   "metadata": {},
   "outputs": [
    {
     "name": "stdout",
     "output_type": "stream",
     "text": [
      "Pear\n",
      "Apple\n",
      "Cherry\n",
      "Orange\n"
     ]
    }
   ],
   "source": [
    "# Performing Iteration\n",
    "fruits=[\"Pear\",\"Apple\",\"Cherry\",\"Orange\"]\n",
    "for i in fruits:\n",
    "        print(i)"
   ]
  },
  {
   "cell_type": "code",
   "execution_count": 59,
   "id": "c4eead35-9732-4619-84ae-62b5789054f5",
   "metadata": {},
   "outputs": [
    {
     "name": "stdout",
     "output_type": "stream",
     "text": [
      "Pear Found\n"
     ]
    }
   ],
   "source": [
    "fruits=[\"Pear\",\"Apple\",\"Cherry\",\"Orange\"]\n",
    "for i in fruits:\n",
    "    if i==\"Pear\":\n",
    "        print(\"Pear Found\")\n",
    "        break\n",
    "    else:\n",
    "        print(\"Pear not Found\")\n",
    "    "
   ]
  },
  {
   "cell_type": "markdown",
   "id": "44ea8c8a-326c-4cb8-9147-17faa27e3444",
   "metadata": {},
   "source": [
    "# Some built-in functions for Lists\n",
    "* len(list) - It returns the length of list\n",
    "* min(list) - It returns the elements of list with min value\n",
    "* max(list) - It returns the elements of list with max value"
   ]
  },
  {
   "cell_type": "code",
   "execution_count": 65,
   "id": "99f9fa61-6101-4691-b090-5c9d951291b5",
   "metadata": {},
   "outputs": [
    {
     "name": "stdout",
     "output_type": "stream",
     "text": [
      "6\n",
      "11\n",
      "68\n"
     ]
    }
   ],
   "source": [
    "#Eg of Above functions\n",
    "num = [11,22,34,46,59,68]\n",
    "print(len(num))\n",
    "print(min(num))\n",
    "print(max(num))"
   ]
  },
  {
   "cell_type": "markdown",
   "id": "75d9ea60-32e7-49d2-9d5d-df9da72e01fc",
   "metadata": {},
   "source": [
    "# List methods\n",
    "syntax - list.method()\n",
    "\n",
    "# Following are the few methods provided by Python:-\n",
    "* append(element): Adds the specified element to the end of the list\n",
    "* insert (index, element): Inserts an element at the specified index\n",
    "* pop(): Removes and returns the last element from the list\n",
    "* remove (element): Removes the specified element from the list\n",
    "* reverse(): Reverse the order of items in the list\n",
    "* index(element): Returns the index of the first matched item\n",
    "* count(element): Returns count of how many times an element occurs in the list"
   ]
  },
  {
   "cell_type": "code",
   "execution_count": 115,
   "id": "f0d706b7-010a-4263-b981-0aa852a7a42e",
   "metadata": {},
   "outputs": [
    {
     "name": "stdout",
     "output_type": "stream",
     "text": [
      "['John', 'Raj', 'Ron', 'Tom']\n",
      "['John', 'Raj', 'Ron', 'Tom', 'Don']\n",
      "['John', 'Raj', 'Don', 'Ron', 'Tom', 'Don']\n",
      "['John', 'Raj', 'Don', 'Tom', 'Don']\n",
      "0\n"
     ]
    }
   ],
   "source": [
    "#Eg of above\n",
    "names=[\"John\",\"Raj\",\"Ron\",\"Tom\"]\n",
    "print(names)\n",
    "names.append(\"Don\")\n",
    "print(names)\n",
    "names.insert(2,\"Don\")\n",
    "print(names)\n",
    "names.remove(\"Ron\")\n",
    "print(names)\n"
   ]
  },
  {
   "cell_type": "code",
   "execution_count": 117,
   "id": "2cab25c4-4f83-459e-b3da-7b0ada3147ad",
   "metadata": {},
   "outputs": [
    {
     "name": "stdout",
     "output_type": "stream",
     "text": [
      "2\n"
     ]
    }
   ],
   "source": [
    "#Eg of count\n",
    "age =[66,22,34,54,66]\n",
    "print(age.count(66))"
   ]
  },
  {
   "cell_type": "code",
   "execution_count": 129,
   "id": "49bee54c-08e2-4989-a2a0-5105db0f2162",
   "metadata": {},
   "outputs": [
    {
     "name": "stdout",
     "output_type": "stream",
     "text": [
      "[64, 54, 34, 22, 66]\n"
     ]
    }
   ],
   "source": [
    "#Eg of reverse\n",
    "age =[66,22,34,54,64]\n",
    "age.reverse()\n",
    "print(age)"
   ]
  },
  {
   "cell_type": "markdown",
   "id": "af29de7b-ef51-48bc-a21a-4e338b6b7558",
   "metadata": {},
   "source": [
    "# List Comprehension in python\n",
    "* It can create mathematical statements in one line\n",
    "\n",
    "# It consists of this parts\n",
    "* Output exp\n",
    "* Input sequence\n",
    "* A variable representing a member of input sequence\n",
    "* An optional predicate part"
   ]
  },
  {
   "cell_type": "code",
   "execution_count": 135,
   "id": "fc08aef4-0121-42ce-8966-7823cad7876e",
   "metadata": {},
   "outputs": [
    {
     "name": "stdout",
     "output_type": "stream",
     "text": [
      "[2, 4, 6, 8, 10]\n"
     ]
    }
   ],
   "source": [
    "#Eg of List Comprehension in python\n",
    "\n",
    "even=[x for x in range(1,11) if x %2==0]\n",
    "print(even)\n",
    "\n",
    "# * x is Output exp\n",
    "# * range(1,11)Input sequence\n",
    "# * x is variable representing a member of input sequence\n",
    "# * x %2==0  An optional predicate part"
   ]
  },
  {
   "cell_type": "code",
   "execution_count": 137,
   "id": "5b2e3543-a926-434b-b876-6aa8be22b4c6",
   "metadata": {},
   "outputs": [
    {
     "name": "stdout",
     "output_type": "stream",
     "text": [
      "['H', 'e', 'l', 'l', 'o', ',', 'L', 'i', 's', 't']\n"
     ]
    }
   ],
   "source": [
    "#Eg of List Comprehension in python\n",
    "\n",
    "str=\"Hello,List\"\n",
    "charList=[x for x in str]\n",
    "print(charList)"
   ]
  },
  {
   "cell_type": "markdown",
   "id": "4aac7079-9930-4871-a5e9-c3b82b36324a",
   "metadata": {},
   "source": [
    "# Advantages of list\n",
    "* Tuples are used for homogeneous data types\n",
    "* Since list are mutable iterating through tuples are slower than tuple."
   ]
  },
  {
   "cell_type": "code",
   "execution_count": null,
   "id": "fbac74ab-5cad-446d-a1c2-a6cb9fb8db7e",
   "metadata": {},
   "outputs": [],
   "source": []
  }
 ],
 "metadata": {
  "kernelspec": {
   "display_name": "Python 3 (ipykernel)",
   "language": "python",
   "name": "python3"
  },
  "language_info": {
   "codemirror_mode": {
    "name": "ipython",
    "version": 3
   },
   "file_extension": ".py",
   "mimetype": "text/x-python",
   "name": "python",
   "nbconvert_exporter": "python",
   "pygments_lexer": "ipython3",
   "version": "3.12.4"
  }
 },
 "nbformat": 4,
 "nbformat_minor": 5
}
