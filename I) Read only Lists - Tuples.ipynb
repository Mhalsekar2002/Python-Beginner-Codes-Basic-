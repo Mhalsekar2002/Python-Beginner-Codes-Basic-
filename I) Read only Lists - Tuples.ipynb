{
 "cells": [
  {
   "cell_type": "markdown",
   "id": "aaea3ae6-4811-4cb8-b098-bd424289d9c2",
   "metadata": {},
   "source": [
    "# Tuples:- \n",
    "* Same as Lists but are immutable(Values cannot be change) \n",
    "# Imp features of tuples:- \n",
    "* It is ordered collections of multiple values \n",
    "* It also allows to store duplicate values \n",
    "* They are immutable *It can be use by placing sequence inside the parenthesis[] \n",
    "* It can be nos of items of different types(integer, float,string)"
   ]
  },
  {
   "cell_type": "code",
   "execution_count": 3,
   "id": "4d2e147b-1318-4c53-b7f4-4c1059826817",
   "metadata": {},
   "outputs": [
    {
     "name": "stdout",
     "output_type": "stream",
     "text": [
      "()\n",
      "(1, 2, 3, 4, 5)\n",
      "('John', 23, 50, 0, True)\n"
     ]
    }
   ],
   "source": [
    "#Eg of tuple\n",
    "tuple1=()\n",
    "print(tuple1)\n",
    "tuple2=(1,2,3,4,5)\n",
    "print(tuple2)\n",
    "tuple3=(\"John\",23,50,0,True)\n",
    "print(tuple3)"
   ]
  },
  {
   "cell_type": "markdown",
   "id": "63fa8224-b92b-4012-a498-818dede94b28",
   "metadata": {},
   "source": [
    "# Manipulating Tuples using:-\n",
    "* Acessing elements of tuple \n",
    "* Tuple slicing \n",
    "* Updating Tuple(This is not possible) \n",
    "* Deletion elements from Tuple"
   ]
  },
  {
   "cell_type": "code",
   "execution_count": 6,
   "id": "afe8e16b-60e7-4026-94ad-2c252ed086a3",
   "metadata": {},
   "outputs": [
    {
     "name": "stdout",
     "output_type": "stream",
     "text": [
      "('C', 'C++', 'Python', 'Java')\n",
      "Java\n",
      "C\n"
     ]
    }
   ],
   "source": [
    "#Eg Acessing elements of tuple\n",
    "languages=(\"C\",\"C++\",\"Python\",\"Java\")\n",
    "print(languages)\n",
    "print(languages[3])\n",
    "print(languages[0])"
   ]
  },
  {
   "cell_type": "code",
   "execution_count": 8,
   "id": "a50b2fb8-01bf-41ba-9469-be997f9faaaa",
   "metadata": {},
   "outputs": [
    {
     "name": "stdout",
     "output_type": "stream",
     "text": [
      "('Python', 'Java')\n",
      "('C++', 'Python')\n"
     ]
    }
   ],
   "source": [
    "#Eg of Tuple slicing\n",
    "languages=(\"C\",\"C++\",\"Python\",\"Java\")\n",
    "print(languages[2:])\n",
    "print(languages[1:3])"
   ]
  },
  {
   "cell_type": "code",
   "execution_count": 10,
   "id": "6b3efc83-f66d-4b1d-82db-ec2bfbb72012",
   "metadata": {},
   "outputs": [
    {
     "name": "stdout",
     "output_type": "stream",
     "text": [
      "(1, 2, 3, 4, 5)\n"
     ]
    }
   ],
   "source": [
    "#Eg of Deletion elements from Tuple\n",
    "tuple1=(1,2,3,4,5)\n",
    "print(tuple1)\n",
    "del tuple1"
   ]
  },
  {
   "cell_type": "markdown",
   "id": "44d699ad-c4d7-421f-a331-8045983ac159",
   "metadata": {},
   "source": [
    "# Tuple operations \n",
    "* Concatenation(+) \n",
    "* Repetition(*) \n",
    "* Membership(in)"
   ]
  },
  {
   "cell_type": "code",
   "execution_count": 13,
   "id": "4d1906cb-494d-46e0-9653-4edd022a64bf",
   "metadata": {},
   "outputs": [
    {
     "name": "stdout",
     "output_type": "stream",
     "text": [
      "(1, 2, 3, 4, 5, 7, 8, 9, 10, 11)\n",
      "(1, 2, 3, 4, 5, 1, 2, 3, 4, 5, 1, 2, 3, 4, 5)\n"
     ]
    }
   ],
   "source": [
    "# Eg of Tuple Concatenation(+) and Repetition\n",
    "tuple1=(1,2,3,4,5)\n",
    "tuple2=(7,8,9,10,11)\n",
    "print(tuple1+tuple2)\n",
    "print(tuple1*3)"
   ]
  },
  {
   "cell_type": "code",
   "execution_count": 15,
   "id": "708fb990-1a2e-419f-950b-e2beaf447602",
   "metadata": {},
   "outputs": [
    {
     "name": "stdout",
     "output_type": "stream",
     "text": [
      "False\n",
      "True\n"
     ]
    }
   ],
   "source": [
    "# Eg of Tuple Membership \n",
    "enrolledList=(\"John\",\"Raj\",\"Ron\",\"Tom\")\n",
    "print(\"Sam\" in enrolledList)\n",
    "print(\"Tom\" in enrolledList)"
   ]
  },
  {
   "cell_type": "code",
   "execution_count": 17,
   "id": "86aa9485-fa41-4051-af4f-6a09f49d60c1",
   "metadata": {},
   "outputs": [
    {
     "name": "stdout",
     "output_type": "stream",
     "text": [
      "Pune\n",
      "Tokyo\n",
      "London\n",
      "Mumbai\n"
     ]
    }
   ],
   "source": [
    "# Iterating\n",
    "cities=(\"Pune\",\"Tokyo\",\"London\",\"Mumbai\")\n",
    "for city in cities:\n",
    "    print(city)"
   ]
  },
  {
   "cell_type": "markdown",
   "id": "73eccde8-d0b7-45b2-9031-803985ef9309",
   "metadata": {},
   "source": [
    "# Some built-in functions for Tuple \n",
    "* len(tuple) - It returns the length of tuple \n",
    "* min(tuple) - It returns the elements of tuple with min value \n",
    "* max(tuple) - It returns the elements of tuple with max value"
   ]
  },
  {
   "cell_type": "code",
   "execution_count": 20,
   "id": "6347ce74-67c8-4c56-b2a5-6e3e8d51c7e1",
   "metadata": {},
   "outputs": [
    {
     "name": "stdout",
     "output_type": "stream",
     "text": [
      "6\n",
      "11\n",
      "68\n"
     ]
    }
   ],
   "source": [
    "#Eg of Above functions\n",
    "num = [11,22,34,46,59,68]\n",
    "print(len(num))\n",
    "print(min(num))\n",
    "print(max(num))"
   ]
  },
  {
   "cell_type": "markdown",
   "id": "dc0c22c1-3810-4735-87cf-87acdc1b300f",
   "metadata": {},
   "source": [
    "# Python has two in-built methos that can be use in tuples \n",
    "* index(element): Returns the index of first matched item \n",
    "* count(element): Returns the count of how many the elements occurs in tuple"
   ]
  },
  {
   "cell_type": "code",
   "execution_count": 25,
   "id": "6e204214-fe06-44ce-9143-b9c94f0f1736",
   "metadata": {},
   "outputs": [
    {
     "name": "stdout",
     "output_type": "stream",
     "text": [
      "2\n",
      "4\n"
     ]
    }
   ],
   "source": [
    "# Eg of above\n",
    "num=(11,24,35,41,51,24)\n",
    "print(num.count(24))\n",
    "print(num.index(51))"
   ]
  },
  {
   "cell_type": "code",
   "execution_count": null,
   "id": "d901dc57-56ef-41d6-ae08-37970fb93d35",
   "metadata": {},
   "outputs": [],
   "source": [
    "# Advantages of tuple:- \n",
    "*Tuples are used for heterogeneous data types. \n",
    "*Since tuples are immutable iterating through tuples are faster than list.So there is slight performance boost\n",
    "*Tuples that contain immutable elements can be used as a key for a dictionary (We will learn what are dictionaries in the upcoming topics). With lists, this is not possible. \n",
    "*If you have data that doesn't change, implementing it as a tuple will guarantee that it remains write-protected.\n",
    " "
   ]
  }
 ],
 "metadata": {
  "kernelspec": {
   "display_name": "Python 3 (ipykernel)",
   "language": "python",
   "name": "python3"
  },
  "language_info": {
   "codemirror_mode": {
    "name": "ipython",
    "version": 3
   },
   "file_extension": ".py",
   "mimetype": "text/x-python",
   "name": "python",
   "nbconvert_exporter": "python",
   "pygments_lexer": "ipython3",
   "version": "3.12.4"
  },
  "panel-cell-order": [
   "1a65d384-910d-4dfa-926c-c3823b8bc028",
   "3269f17c-bbbd-4a94-9251-64b183858565",
   "b52dc53b-acc9-4c27-aaeb-42612fef50bf",
   "05166285-a7f6-4bdf-accd-edc76219a310",
   "6addee86-4dba-40a6-b2bd-c0c8639c142a",
   "2cad1c53-cdde-45e9-ab3b-76f8b0f59a48",
   "2f07685b-ee82-4079-b3ba-9d186b0cfda8"
  ]
 },
 "nbformat": 4,
 "nbformat_minor": 5
}
