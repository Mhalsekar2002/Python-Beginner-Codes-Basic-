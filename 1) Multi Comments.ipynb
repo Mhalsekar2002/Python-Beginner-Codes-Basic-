{
 "cells": [
  {
   "cell_type": "code",
   "execution_count": 76,
   "id": "5da85501-f868-424b-b919-475f10db22ac",
   "metadata": {},
   "outputs": [
    {
     "name": "stdout",
     "output_type": "stream",
     "text": [
      "My\n",
      "James\n",
      "Bond\n"
     ]
    }
   ],
   "source": [
    "print(\"My\")\n",
    "\"\"\"\n",
    "print(\"Name\")\n",
    "print(\"is\")\n",
    "print(\"Bond\")\n",
    "\"\"\"\n",
    "print(\"James\")\n",
    "print(\"Bond\")"
   ]
  },
  {
   "cell_type": "code",
   "execution_count": 72,
   "id": "588006cf-9d1f-415d-854f-4b0ee650dad9",
   "metadata": {},
   "outputs": [
    {
     "name": "stdout",
     "output_type": "stream",
     "text": [
      "My\n"
     ]
    },
    {
     "data": {
      "text/plain": [
       "'\\nprint(\"Name\")\\nprint(\"is\")\\nprint(\"Bond\")\\nprint(\"James\")\\nprint(\"Bond\")\\n'"
      ]
     },
     "execution_count": 72,
     "metadata": {},
     "output_type": "execute_result"
    }
   ],
   "source": [
    "print(\"My\")\n",
    "\"\"\"\n",
    "print(\"Name\")\n",
    "print(\"is\")\n",
    "print(\"Bond\")\n",
    "print(\"James\")\n",
    "print(\"Bond\")\n",
    "\"\"\""
   ]
  },
  {
   "cell_type": "code",
   "execution_count": null,
   "id": "dc34cb0b-7391-4780-9c28-e63de4590eb6",
   "metadata": {},
   "outputs": [],
   "source": []
  }
 ],
 "metadata": {
  "kernelspec": {
   "display_name": "Python 3 (ipykernel)",
   "language": "python",
   "name": "python3"
  },
  "language_info": {
   "codemirror_mode": {
    "name": "ipython",
    "version": 3
   },
   "file_extension": ".py",
   "mimetype": "text/x-python",
   "name": "python",
   "nbconvert_exporter": "python",
   "pygments_lexer": "ipython3",
   "version": "3.12.4"
  }
 },
 "nbformat": 4,
 "nbformat_minor": 5
}
