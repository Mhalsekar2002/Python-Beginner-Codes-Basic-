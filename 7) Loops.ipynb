{
 "cells": [
  {
   "cell_type": "markdown",
   "id": "771370c8-bfc3-48a1-b583-04d33df3c654",
   "metadata": {},
   "source": [
    "# Iteration 2 types:-\n",
    "* Definiteiteration - in which  the nos of repetitions is specified explicity in advance\n",
    "* Indefiniteiteration - in which  the code block executes until some condition is met\n",
    "\n",
    "# Python provides various loops to handle these iterations, namely:-\n",
    "* For Loop - It is generally used for definite • iteration, that is when the number of iterations is known.\n",
    "[Syntax:for val in sequence:\n",
    "statements]\n",
    "\n",
    "* While Loop - It is generally used for indefinite • iteration, that is when the number of iterations is unknown.\n",
    "while booleam_expression:\n",
    "statements(s)\n",
    "* When a while loop is executed, boolean_expression is first evaluated in boolean context and if it is true then the loop body is executed.\n",
    "\n",
    "# Range:-\n",
    "The range() is a built-in function in Python. It is used when a user needs to perform an action for a specific number of times.\n",
    "In simple terms, range() allows the user to generate a series of numbers within a given range.\n",
    "\n",
    "# The range() function takes mainly three arguments,\n",
    "* start: It is an integer starting from which the sequence of integers is to be returned\n",
    "* stop: It is an integer before which the sequence of integers is to be returned. The range of integers ends at stop - 1.\n",
    "* step (optional): It is an integer value which determines the increment between each integer in the sequence\n",
    "\n",
    "# List\n",
    "*It is a collection of elements that are oredered and changeable."
   ]
  },
  {
   "cell_type": "code",
   "execution_count": 1,
   "id": "97313cbc-dac2-4991-b03e-571477221382",
   "metadata": {},
   "outputs": [
    {
     "name": "stdout",
     "output_type": "stream",
     "text": [
      "[0, 1, 2, 3, 4]\n",
      "[1, 2, 3, 4]\n",
      "[1, 3, 5, 7, 9]\n"
     ]
    }
   ],
   "source": [
    "#Eg of Range\n",
    "print(list(range(5))) #single argument signifies the end of the range (excluded)\n",
    "print(list(range (1,5))) #two arguments signifies start and the end of the range\n",
    "print(list(range(1, 10,2))) #third argument, if mentioned, signifies the step size"
   ]
  },
  {
   "cell_type": "code",
   "execution_count": 1,
   "id": "5239d98a-ba79-4264-9e32-e83e4625ea5a",
   "metadata": {},
   "outputs": [
    {
     "name": "stdout",
     "output_type": "stream",
     "text": [
      "0\n",
      "1\n",
      "2\n",
      "3\n",
      "4\n"
     ]
    }
   ],
   "source": [
    "#Eg of For loop\n",
    "for x in range(5):\n",
    "    print(x)"
   ]
  },
  {
   "cell_type": "code",
   "execution_count": 5,
   "id": "15b8d1db-c5ea-4bd0-8a2e-955788f4be8a",
   "metadata": {},
   "outputs": [
    {
     "name": "stdout",
     "output_type": "stream",
     "text": [
      "Pratham\n",
      "Pratham\n",
      "Pratham\n",
      "Pratham\n",
      "Pratham\n"
     ]
    }
   ],
   "source": [
    "#Eg of For loop\n",
    "for i in range(5):\n",
    "    print(\"Pratham\")"
   ]
  },
  {
   "cell_type": "code",
   "execution_count": 7,
   "id": "d06ac55a-23e3-42a9-965e-34176caaf5a8",
   "metadata": {},
   "outputs": [
    {
     "name": "stdout",
     "output_type": "stream",
     "text": [
      "P\n",
      "r\n",
      "a\n",
      "t\n",
      "h\n",
      "a\n",
      "m\n"
     ]
    }
   ],
   "source": [
    "#Eg of iterating over string\n",
    "for i in \"Pratham\":\n",
    "    print(i)"
   ]
  },
  {
   "cell_type": "code",
   "execution_count": 12,
   "id": "06065bf1-7047-45ca-a7d4-be6ad72e7134",
   "metadata": {},
   "outputs": [
    {
     "name": "stdout",
     "output_type": "stream",
     "text": [
      "Pratham\n",
      "Pratham\n",
      "Pratham\n"
     ]
    }
   ],
   "source": [
    "#Eg of while loop\n",
    "i = 0\n",
    "while i<3:\n",
    "    print(\"Pratham\")\n",
    "    i = i+1"
   ]
  },
  {
   "cell_type": "markdown",
   "id": "69fc4b5a-92a3-4038-aef9-c05beb4e1b12",
   "metadata": {},
   "source": [
    "# Break Statement\n",
    "-The break statement is used to terminate the loop or statement in which it is present.It is also called control statement."
   ]
  },
  {
   "cell_type": "code",
   "execution_count": 6,
   "id": "0d2e973c-6aed-4374-b0c1-0c95aa4de2f9",
   "metadata": {},
   "outputs": [],
   "source": [
    "#Eg of break statement\n",
    "str=\"Goodmorning\"\n",
    "for i in str:\n",
    "    if i:=\"m\":\n",
    "        break\n",
    "    else:\n",
    "        print(i)"
   ]
  },
  {
   "cell_type": "code",
   "execution_count": 46,
   "id": "c6dcd1af-2e13-45e2-97e8-c43a46df768b",
   "metadata": {},
   "outputs": [
    {
     "name": "stdin",
     "output_type": "stream",
     "text": [
      "Enter the number for multiplication table: 4\n"
     ]
    },
    {
     "name": "stdout",
     "output_type": "stream",
     "text": [
      "4 x 1 = 4\n",
      "4 x 2 = 8\n",
      "4 x 3 = 12\n",
      "4 x 4 = 16\n",
      "4 x 5 = 20\n",
      "4 x 6 = 24\n",
      "4 x 7 = 28\n",
      "4 x 8 = 32\n",
      "4 x 9 = 36\n",
      "4 x 10 = 40\n"
     ]
    }
   ],
   "source": [
    "#Eg of range using for loop\n",
    "num =int(input('Enter the number for multiplication table:'))\n",
    "for i in range(1,11):\n",
    "    print(num, 'x',i,'=',num*i)"
   ]
  },
  {
   "cell_type": "code",
   "execution_count": 1,
   "id": "1fe7fe8f-6c85-4aba-994c-acb840b0da21",
   "metadata": {},
   "outputs": [
    {
     "name": "stdin",
     "output_type": "stream",
     "text": [
      "Enter the number till where you want to generate even numbers: 10\n"
     ]
    },
    {
     "name": "stdout",
     "output_type": "stream",
     "text": [
      "0\n",
      "2\n",
      "4\n",
      "6\n",
      "8\n",
      "10\n"
     ]
    }
   ],
   "source": [
    "#Eg of range using while loop\n",
    "num =int(input('Enter the number till where you want to generate even numbers:'))\n",
    "i=0\n",
    "while i<=num:\n",
    "    if i%2==0:\n",
    "        print(i)\n",
    "        i = i+2"
   ]
  },
  {
   "cell_type": "code",
   "execution_count": null,
   "id": "777e8b1a-6976-459e-88ea-0dbd2b3155c6",
   "metadata": {},
   "outputs": [],
   "source": []
  },
  {
   "cell_type": "code",
   "execution_count": null,
   "id": "1f7066c1-7f11-45e0-bcc7-da7113dc6834",
   "metadata": {},
   "outputs": [],
   "source": []
  },
  {
   "cell_type": "code",
   "execution_count": null,
   "id": "5138b499-16a2-428a-8f77-251f7bf3b6db",
   "metadata": {},
   "outputs": [],
   "source": []
  },
  {
   "cell_type": "code",
   "execution_count": null,
   "id": "af3ae1a4-3829-42bd-b786-8db1c17f7ce4",
   "metadata": {},
   "outputs": [],
   "source": []
  }
 ],
 "metadata": {
  "kernelspec": {
   "display_name": "Python 3 (ipykernel)",
   "language": "python",
   "name": "python3"
  },
  "language_info": {
   "codemirror_mode": {
    "name": "ipython",
    "version": 3
   },
   "file_extension": ".py",
   "mimetype": "text/x-python",
   "name": "python",
   "nbconvert_exporter": "python",
   "pygments_lexer": "ipython3",
   "version": "3.12.4"
  }
 },
 "nbformat": 4,
 "nbformat_minor": 5
}
