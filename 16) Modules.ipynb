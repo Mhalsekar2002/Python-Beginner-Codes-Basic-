{
 "cells": [
  {
   "cell_type": "markdown",
   "id": "945543a1-5f75-4209-8a60-50e7345e975f",
   "metadata": {},
   "source": [
    "# Modules\n",
    "* Modules are just like readymade bread.\n",
    "* Modules refer to file conatining python statements and definitions.These are prewritten codes that are written by someone which can directly use your code.\n",
    "* We use modules to break down large programs into small manageable and organized files\n",
    "* We can define our most used functions in a module and import it, instead of copying their definition into different programs.\n",
    "\n",
    "#There are 3 types of modules,\n",
    "* Built-in modules\n",
    "* Third party modules\n",
    "* Custom modules\n",
    "\n",
    "## Built-in modules\n",
    "* As the name suggests, built-in modules are the modules that are available in Python by default.These modules are developed and maintained by the Python developer team.\n",
    "* Thus, to use such modules, you can directly import them into your file and just make the call to the methods that you need.\n",
    "* For instance, the math module is a built-in module in python that provides various mathematical functions.\n",
    "\n",
    "## Third party modules\n",
    "* These modules are just like the built-in modules in Python. The only major difference is that we need to install them first.\n",
    "* Once they are installed, you can use them just like the built-in modules.\n",
    "* Third-party modules can be installed using the 'pip' command. PIP is a package manager for Python packages.\n",
    "* These modules are uploaded and stored at the PyPI repository. The Python Package Index, abbreviated as PyPI is the official third-party software        repository for Python.\n",
    "* Following is the syntax to download the third- party modules. Hit this command in the command-line/terminal.\n",
    "\n",
    "#For windows : \n",
    "pip install module_name\n",
    "\n",
    "#For MacOs/Linux : \n",
    "pip3 install module_name\n",
    "\n",
    "## Custom modules\n",
    "* Python custom modules are the modules created by the developer.\n",
    "* These modules are simple Python files that can be imported into another Python file/project.\n",
    "* Once imported, you can access all the attributes and methods of the imported file.Such files are called Python custom modules.\n",
    "* This allows you to reuse your code in the same project and also helps you write efficient and fewer lines of code."
   ]
  },
  {
   "cell_type": "markdown",
   "id": "daf5a356-7acd-400f-9f2f-f9cef93c6c7b",
   "metadata": {},
   "source": [
    "# How to use Modules\n",
    "There are 3 ways of using python modules,\n",
    "* The import statement\n",
    "* Import statement and renaming\n",
    "* The form...import statement\n",
    "\n",
    "## The import statement\n",
    "* We can use the import keyword to do this\n",
    "* To import the module, we can use the following statement,\n",
    "* import module_name\n",
    "* This will import the whole module into your Python project.\n",
    "* To use the various functions provided by the respective module, we can use the dot (.) operator as shown below,\n",
    "\n",
    "#module_name.functionName()\n",
    "* Where,module_name is the name of the Python module.\n",
    "* functionName() is the name of the function we wish to use from that particular module.\n",
    "\n",
    "## Renaming a module\n",
    "* There are situations were the module name is little lengthy.\n",
    "* In such situations, we can rename the module's name while importing it.\n",
    "* We can use the import...as syntax that allows us to do the same. The as keyword helps us in renaming the module as shown below,\n",
    "#import module_name as m\n",
    "* module_name is the name of the Python module.\n",
    "* 'm' is the new name given to it that can be • used to refer to the module further in the project.\n",
    "#For example,\n",
    "* Instead of using the syntax, module_name.functionName(), we can use m.functionName().\n",
    "\n",
    "##  The form...import statement\n",
    "* Let's say you want to buy an egg, just one egg. In such a situation, will it make sense to buy the whole egg tray? Of course not!\n",
    "* Similarly, assume that there is some situation where you need a particular attribute/function/ class from a module.\n",
    "* Then importing the whole module can make your project heavy and a bit slow.\n",
    "* We can use the from...import syntax which allows us to import only the particular name(attribute/function/class) that we want from a module.\n",
    "#Following is the syntax to do so,\n",
    "* from module_name import functionName\n",
    "\n",
    "How to use?\n",
    "* We know that we can use a particular attribute/ function from a module using the dot operator.\n",
    "* But, how to use it in the case of from...import syntax?\n",
    "* It is pretty simple.\n",
    "* Since we have just imported only the particular name from the module that we want, we can directly use it without referring to the module_name using * the dot syntax as shown below,\n",
    "#functionName()"
   ]
  },
  {
   "cell_type": "code",
   "execution_count": 18,
   "id": "01b51ac4-bc11-4c2c-810d-9f5e73d778eb",
   "metadata": {},
   "outputs": [
    {
     "data": {
      "text/plain": [
       "120"
      ]
     },
     "execution_count": 18,
     "metadata": {},
     "output_type": "execute_result"
    }
   ],
   "source": [
    "#Let's say we have a requirement to calculate the factorial of a given number.\n",
    "#We do know that this is already available under a built-in module called math. Following are the different ways of using this function:\n",
    "\n",
    "# simple import method\n",
    "import math\n",
    "math.factorial(5)\n",
    "# rename method\n",
    "import math as mt\n",
    "mt.factorial(5)\n",
    "# importing just the factorial function\n",
    "from math import factorial\n",
    "factorial(5)\n",
    "\n",
    "#All the above statements would yield the output as 120 when executed separately."
   ]
  },
  {
   "cell_type": "code",
   "execution_count": null,
   "id": "068fd6c9-0c0c-449b-a853-11c2f9b71208",
   "metadata": {},
   "outputs": [],
   "source": []
  }
 ],
 "metadata": {
  "kernelspec": {
   "display_name": "Python 3 (ipykernel)",
   "language": "python",
   "name": "python3"
  },
  "language_info": {
   "codemirror_mode": {
    "name": "ipython",
    "version": 3
   },
   "file_extension": ".py",
   "mimetype": "text/x-python",
   "name": "python",
   "nbconvert_exporter": "python",
   "pygments_lexer": "ipython3",
   "version": "3.12.4"
  }
 },
 "nbformat": 4,
 "nbformat_minor": 5
}
