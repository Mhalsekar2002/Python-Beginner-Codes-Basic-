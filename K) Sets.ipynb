{
 "cells": [
  {
   "cell_type": "markdown",
   "id": "5dc7c355-037e-4e38-9630-6182e8e6752f",
   "metadata": {},
   "source": [
    "# Sets\n",
    "- It is a collection data type in a python.\n",
    "\n",
    "Key pts:-\n",
    "* Sets are unordered collections.\n",
    "* Sets elements are unique.Duplicate elements are not allowed.\n",
    "* A Set itself can be mutable(modified), but the elements contained in sets must be of an immutable type.\n",
    "\n",
    "# Creating Sets in Python\n",
    "* A set is created by using the set() function or placing all the elements within a pair of curly braces.\n",
    "* Well, one thing to note here is, dictionaries also use curly braces, but dictionaries have elements as key-value pair(s).\n",
    "* Thus '{}' is an empty dictionary and not an empty set.\n",
    "* This is the reason, we have two methods to create a set."
   ]
  },
  {
   "cell_type": "code",
   "execution_count": 1,
   "id": "bc49b905-61af-4947-a055-036d10461a0e",
   "metadata": {},
   "outputs": [
    {
     "name": "stdout",
     "output_type": "stream",
     "text": [
      "<class 'set'>\n"
     ]
    }
   ],
   "source": [
    "# Eg of empty set\n",
    "data = set()\n",
    "print(type(data))"
   ]
  },
  {
   "cell_type": "code",
   "execution_count": 11,
   "id": "ec599aae-8f51-48b1-b38a-fa8abce159fe",
   "metadata": {},
   "outputs": [
    {
     "name": "stdout",
     "output_type": "stream",
     "text": [
      "{1, 2, 3, 4}\n",
      "{5, 6, 7, 8, 'Tom'}\n"
     ]
    }
   ],
   "source": [
    "#Eg of Sets\n",
    "set1={1,2,3,4}\n",
    "set2={5,6,7,8,\"Tom\"}\n",
    "print(set1)\n",
    "print(set2)"
   ]
  },
  {
   "cell_type": "code",
   "execution_count": 13,
   "id": "1dbf4f23-c4f6-414e-ba6b-f67fab63c8b5",
   "metadata": {},
   "outputs": [
    {
     "name": "stdout",
     "output_type": "stream",
     "text": [
      "{'Thur', 'Mon', 'Wed', 'Tue'}\n"
     ]
    }
   ],
   "source": [
    "# Eg of Sets (Unordered)\n",
    "days={\"Mon\", \"Tue\", \"Wed\", \"Thur\"}\n",
    "print(days)"
   ]
  },
  {
   "cell_type": "code",
   "execution_count": 19,
   "id": "89e28d86-7f82-4d77-b632-a9f2b3eee579",
   "metadata": {},
   "outputs": [
    {
     "name": "stdout",
     "output_type": "stream",
     "text": [
      "Thur\n",
      "Mon\n",
      "Wed\n",
      "Tue\n"
     ]
    }
   ],
   "source": [
    "# Acesssing elements\n",
    "days={\"Mon\", \"Tue\", \"Wed\", \"Thur\"}\n",
    "for day in days:\n",
    "    print(day)"
   ]
  },
  {
   "cell_type": "markdown",
   "id": "0c48933e-f69d-4ef3-9e3c-f322b2839d64",
   "metadata": {},
   "source": [
    "# Sets Operations\n",
    "Following are the set-specific operations in Python:-\n",
    "\n",
    "* Union of Sets:-\n",
    "-The union operatn of two sets produces a new sets containing al the distinct elements from both the sets\n",
    "Syntax:-\n",
    "* It is performed using '|' operator or union() method.\n",
    "\n",
    "* Sets Intersection\n",
    "-Elements that are common in both sets.\n",
    "* Syntax:-\n",
    " It is performed using '&' operator or intersection() method.\n",
    "\n",
    "* Difference of sets\n",
    "-The difference of the set B from set A, that is (A - B) is a set of elements that are only in A but not in B. Similarly, B - A is a set of elements in B but not in A.\n",
    "-Shows elements which are not present in certain sets.\n",
    "Syntax:-\n",
    "* It is performed using '-' operator or difference() method."
   ]
  },
  {
   "cell_type": "code",
   "execution_count": 25,
   "id": "efffdaf4-8edd-4499-a537-0b788747fd40",
   "metadata": {},
   "outputs": [
    {
     "name": "stdout",
     "output_type": "stream",
     "text": [
      "{1, 2, 3, 4, 5, 6, 7, 8, 9, 10}\n",
      "{1, 2, 3, 4, 5, 6, 7, 8, 9, 10}\n"
     ]
    }
   ],
   "source": [
    "#Eg of Union\n",
    "#Using '|' operator\n",
    "A={1,2,3,4,5}\n",
    "B={6,7,8,9,10}\n",
    "print(A|B)\n",
    "\n",
    "#Usong union() method\n",
    "print(A.union(B))"
   ]
  },
  {
   "cell_type": "code",
   "execution_count": 27,
   "id": "a8895ac7-e55a-4b80-b5a7-c7c7d59f3e09",
   "metadata": {},
   "outputs": [
    {
     "name": "stdout",
     "output_type": "stream",
     "text": [
      "{2, 3}\n",
      "{2, 3}\n"
     ]
    }
   ],
   "source": [
    "#Eg of Intersection\n",
    "#Using '&' operator\n",
    "A={1,2,3,4,5}\n",
    "B={2,3,6,7,8,9,10}\n",
    "print(A&B)\n",
    "\n",
    "#Usong union() method\n",
    "print(A.intersection(B))"
   ]
  },
  {
   "cell_type": "code",
   "execution_count": 41,
   "id": "4f63ff79-03d4-4506-a008-2c70d7d45f0e",
   "metadata": {},
   "outputs": [
    {
     "name": "stdout",
     "output_type": "stream",
     "text": [
      "A-B= {1, 4, 5}\n",
      "B-A= {6, 7, 8, 9, 10}\n",
      "A-B= {1, 4, 5}\n",
      "B-A= {6, 7, 8, 9, 10}\n"
     ]
    }
   ],
   "source": [
    "#Eg of Difference\n",
    "#Using '-' operator\n",
    "A={1,2,3,4,5}\n",
    "B={2,3,6,7,8,9,10}\n",
    "print(\"A-B=\",A-B)\n",
    "print(\"B-A=\",B-A)\n",
    "\n",
    "#Using difference() method\n",
    "print(\"A-B=\", A.difference(B))\n",
    "print(\"B-A=\", B.difference(A))"
   ]
  },
  {
   "cell_type": "markdown",
   "id": "f4e9e9d2-24b8-458f-938a-5ac7303ff687",
   "metadata": {},
   "source": [
    "# Built-In Function\n",
    "Python provides a few built-in functions to perform the various tasks on the Sets. Some of these methods are,\n",
    "* len() - It returns the length (the number of elements) in the set.\n",
    "* max()- It returns the largest item in the set.\n",
    "* min()- It returns the smallest item in the set.\n",
    "* sorted()- It returns a new sorted list from  elements in the set. It does not sort the set itself.\n",
    "* sum()- It returns the sum of all elements in the set."
   ]
  },
  {
   "cell_type": "code",
   "execution_count": 49,
   "id": "eb9e926c-a02e-409a-b0db-b83410de8672",
   "metadata": {},
   "outputs": [
    {
     "name": "stdout",
     "output_type": "stream",
     "text": [
      "6\n",
      "21\n",
      "99\n",
      "374\n",
      "[21, 43, 55, 67, 89, 99]\n"
     ]
    }
   ],
   "source": [
    "# Eg of above\n",
    "age={21,43,55,67,89,99}\n",
    "\n",
    "print(len(age))\n",
    "print(min(age))\n",
    "print(max(age))\n",
    "print(sum(age))\n",
    "print(sorted(age))"
   ]
  },
  {
   "cell_type": "markdown",
   "id": "eb458cd6-e60d-4271-aec9-8b5bc1ae2218",
   "metadata": {},
   "source": [
    "# Sets Methods\n",
    "* Python provides various methods to manipulate sets and perform various operations.\n",
    "* We have used some of these such as union(), intersection(), and more.\n",
    "\n",
    "Following are the few important Set methods,\n",
    "* add() - It adds an element to the set.\n",
    "* intersection() - It returns the intersection of two sets as a new set.\n",
    "* clear() - It removes all elements from the set.\n",
    "* copy() - It returns a copy of the set.\n",
    "* difference() - It returns the difference of two or more sets as a new set.\n",
    "* discard() - It removes an element from the set if it is a member.\n",
    "* isdisjoint()- It returns True if two sets have a null intersection.\n",
    "* issubset() - It returns True if another set contains this set.\n",
    "* issuperset()- It returns True if this set contains another set.\n",
    "* pop() - It removes and returns an arbitrary set element.\n",
    "* remove() - It removes an element from the set.\n",
    "* union()- It returns the union of sets in a new set.\n",
    "* update()- It updates the set with the union of itself and others."
   ]
  },
  {
   "cell_type": "code",
   "execution_count": 93,
   "id": "97d2937b-0e65-4a6a-91de-cc7029559488",
   "metadata": {},
   "outputs": [
    {
     "name": "stdout",
     "output_type": "stream",
     "text": [
      "{99, 67, 21, 35, 55, 89, 43}\n",
      "{67, 21, 35, 55, 89, 43}\n",
      "{21, 35, 55, 89, 43}\n",
      "set()\n"
     ]
    }
   ],
   "source": [
    "# Eg of above\n",
    "age={21,43,55,67,89,99}\n",
    "\n",
    "age.add(35)\n",
    "print(age)\n",
    "age.remove(99)\n",
    "print(age)\n",
    "age.pop()\n",
    "print(age)\n",
    "age.clear()\n",
    "print(age)"
   ]
  },
  {
   "cell_type": "code",
   "execution_count": 91,
   "id": "a71df251-1ca1-4772-ab65-bc0b4fa1c5ec",
   "metadata": {},
   "outputs": [
    {
     "name": "stdout",
     "output_type": "stream",
     "text": [
      "False\n",
      "False\n",
      "False\n",
      "True\n"
     ]
    }
   ],
   "source": [
    "# Eg of above\n",
    "A={1,2,3,4}\n",
    "B={4,5,6,7,8}\n",
    "C={1,2,11,22,13,14,}\n",
    "\n",
    "print(A.issubset(B))\n",
    "print(B.issuperset(A))\n",
    "print(A.isdisjoint(B))\n",
    "print(C.isdisjoint(B))"
   ]
  },
  {
   "cell_type": "code",
   "execution_count": 99,
   "id": "32243abf-d66d-4d2e-990c-13a4e4384121",
   "metadata": {},
   "outputs": [
    {
     "name": "stdout",
     "output_type": "stream",
     "text": [
      "{'I', 'S', 'C', 'B', 'R'}\n",
      "{'I', 'S', 'C', 'R'}\n"
     ]
    }
   ],
   "source": [
    "# Eg of above\n",
    "bricsnation={\"B\", \"R\",\"I\", \"C\", \"S\"}\n",
    "bricsnation.discard(\"Z\")\n",
    "print(bricsnation)\n",
    "\n",
    "bricsnation.remove(\"B\")\n",
    "print(bricsnation)"
   ]
  },
  {
   "cell_type": "code",
   "execution_count": null,
   "id": "13288754-f2ef-40ac-bdbb-cca8900b71c1",
   "metadata": {},
   "outputs": [],
   "source": []
  }
 ],
 "metadata": {
  "kernelspec": {
   "display_name": "Python 3 (ipykernel)",
   "language": "python",
   "name": "python3"
  },
  "language_info": {
   "codemirror_mode": {
    "name": "ipython",
    "version": 3
   },
   "file_extension": ".py",
   "mimetype": "text/x-python",
   "name": "python",
   "nbconvert_exporter": "python",
   "pygments_lexer": "ipython3",
   "version": "3.12.4"
  }
 },
 "nbformat": 4,
 "nbformat_minor": 5
}
