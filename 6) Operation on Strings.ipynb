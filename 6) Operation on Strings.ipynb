{
 "cells": [
  {
   "cell_type": "code",
   "execution_count": 5,
   "id": "7bb375c2-d898-4eba-997d-7992546cbd97",
   "metadata": {},
   "outputs": [
    {
     "name": "stdin",
     "output_type": "stream",
     "text": [
      "Please enter your name: Pratham\n"
     ]
    },
    {
     "name": "stdout",
     "output_type": "stream",
     "text": [
      "Hello Pratham\n"
     ]
    }
   ],
   "source": [
    "#Eg of Strings\n",
    "username = input(\"Please enter your name:\")\n",
    "print(\"Hello\",username)"
   ]
  },
  {
   "cell_type": "markdown",
   "id": "38a280e9-f2f0-48bf-a920-df20327183ec",
   "metadata": {},
   "source": [
    "# Comma is used for giving spave between Hello and name.Above"
   ]
  },
  {
   "cell_type": "markdown",
   "id": "a1ef875a-ef33-499b-85d3-30acccf5691c",
   "metadata": {},
   "source": [
    "# {} placeholders are use to insert name and give spaces, rather than using comma.Below"
   ]
  },
  {
   "cell_type": "code",
   "execution_count": 217,
   "id": "a09e9bad-7af2-403b-8e61-a527c233240d",
   "metadata": {},
   "outputs": [
    {
     "name": "stdin",
     "output_type": "stream",
     "text": [
      "Enter your name:  pratham\n",
      "Enter your age:  22\n"
     ]
    },
    {
     "name": "stdout",
     "output_type": "stream",
     "text": [
      "Hello, pratham. You are 22 years old.\n"
     ]
    }
   ],
   "source": [
    "#Eg of format and placeholders\n",
    "name = input(\"Enter your name: \")\n",
    "age = input(\"Enter your age: \")\n",
    "print(\"Hello, {}. You are {} years old.\".format(name, age))"
   ]
  },
  {
   "cell_type": "code",
   "execution_count": 175,
   "id": "4eeffdb1-6ec6-4700-b398-8b5b1ee70d68",
   "metadata": {},
   "outputs": [
    {
     "name": "stdout",
     "output_type": "stream",
     "text": [
      "My name is John, I am 36 years old.\n",
      "My name is John, I'm 36 years old.\n",
      "My name is John, I'm 36 years old.\n"
     ]
    }
   ],
   "source": [
    "#Eg of format and placeholders\n",
    "stringOne = \"My name is {name}, I am {age} years old.\".format(name=\"John\", age=36)\n",
    "stringTwo = \"My name is {}, I'm {} years old.\".format(\"John\", 36)\n",
    "stringThree = \"My name is {}, I'm {} years old.\".format(\"John\", 36)\n",
    "\n",
    "print(stringOne)\n",
    "print(stringTwo)\n",
    "print(stringThree)"
   ]
  },
  {
   "cell_type": "code",
   "execution_count": 225,
   "id": "0f1172e4-d440-4123-94c9-47482bdbea1e",
   "metadata": {},
   "outputs": [
    {
     "name": "stdin",
     "output_type": "stream",
     "text": [
      "Enter your name: sam\n"
     ]
    },
    {
     "name": "stdout",
     "output_type": "stream",
     "text": [
      "Hello, sam!\n"
     ]
    }
   ],
   "source": [
    "#Eg of f-string\n",
    "name = input(\"Enter your name:\")\n",
    "print(f\"Hello, {name}!\")"
   ]
  },
  {
   "cell_type": "code",
   "execution_count": 233,
   "id": "0c10006d-91a6-475a-a6a5-dcc06e1bbdc3",
   "metadata": {},
   "outputs": [
    {
     "name": "stdout",
     "output_type": "stream",
     "text": [
      "five plus ten is 15\n"
     ]
    }
   ],
   "source": [
    "#Eg of f-string\n",
    "num1=5\n",
    "num2=10\n",
    "print(f\"five plus ten is {num1 + num2}\")"
   ]
  },
  {
   "cell_type": "markdown",
   "id": "dceaf01e-5afa-4971-90d2-9069103395b1",
   "metadata": {},
   "source": [
    "# Index\n",
    "* It is numerical representation of an item position in a sequence. It start from 0\n",
    "* Eg:P Y T H O N X\n",
    "*    0 1 2 3 4 5 6\n",
    "\n",
    "# Negative Index\n",
    "* Eg:P  Y  T  H  O  N  X\n",
    "*      -6 -5 -4 -3  -2 -1\n",
    "\n",
    " [::2] is used for alternative nos"
   ]
  },
  {
   "cell_type": "code",
   "execution_count": 239,
   "id": "c78632b9-de14-441f-bdeb-df7e29a5e7c6",
   "metadata": {},
   "outputs": [
    {
     "name": "stdout",
     "output_type": "stream",
     "text": [
      "P\n",
      "t\n"
     ]
    }
   ],
   "source": [
    "#Eg of Index\n",
    "appName = \"PythonX\"\n",
    "print(appName[0])\n",
    "print(appName[2])"
   ]
  },
  {
   "cell_type": "markdown",
   "id": "8d8ea2d8-dfff-49e3-a313-1f5a0b0e02bf",
   "metadata": {},
   "source": [
    "# Slicing\n",
    "It is obtaining sub-string from a given string by slicing it respectively from start to end\n",
    "* Syntax : string[start:end:step]"
   ]
  },
  {
   "cell_type": "code",
   "execution_count": 263,
   "id": "9a78f708-dc03-44e6-8edf-11df0a753e32",
   "metadata": {},
   "outputs": [
    {
     "name": "stdout",
     "output_type": "stream",
     "text": [
      "PythonX\n",
      "Py\n",
      "Pyth\n",
      "tho\n",
      "PtoX\n",
      "PhX\n"
     ]
    }
   ],
   "source": [
    "#Eg of Slicing\n",
    "appName = \"PythonX\"\n",
    "print(appName[0:])\n",
    "print(appName[:2])\n",
    "print(appName[:4])\n",
    "print(appName[2:5])\n",
    "print(appName[::2])\n",
    "print(appName[::3])"
   ]
  },
  {
   "cell_type": "code",
   "execution_count": 255,
   "id": "29b81b6f-cd2e-4a62-bf89-8fedf82735b1",
   "metadata": {},
   "outputs": [
    {
     "name": "stdout",
     "output_type": "stream",
     "text": [
      "jo\n",
      "jh\n"
     ]
    }
   ],
   "source": [
    "#Eg of Slicing\n",
    "name = \"john\"\n",
    "print(name[:2:])\n",
    "print(name[::2])"
   ]
  },
  {
   "cell_type": "code",
   "execution_count": null,
   "id": "2b91eb3d-c085-4255-877d-cb64accdc683",
   "metadata": {},
   "outputs": [],
   "source": [
    "#Two basic operation on strings\n",
    "= Concatenation : It is use to combine two strings, or it adds two strings.\n",
    "  *Using + operator\n",
    "  *Using join() method\n",
    "\n",
    "= Repetition : It is process of creating new strings by concatenating multiple copies of same string\n",
    "  (*operator) is used"
   ]
  },
  {
   "cell_type": "code",
   "execution_count": 301,
   "id": "3f8e8d47-8863-4287-98fe-54471c10b0f8",
   "metadata": {},
   "outputs": [
    {
     "name": "stdout",
     "output_type": "stream",
     "text": [
      "JohnDoe\n"
     ]
    }
   ],
   "source": [
    "#Eg of Concatenation (Using + operator)\n",
    "name1 = \"John\"\n",
    "name2 = \"Doe\"\n",
    "fullname = name1 + name2\n",
    "print(fullname)"
   ]
  },
  {
   "cell_type": "code",
   "execution_count": 303,
   "id": "d41af2cf-0d6e-431f-8980-f4e3aaae59dd",
   "metadata": {},
   "outputs": [
    {
     "name": "stdout",
     "output_type": "stream",
     "text": [
      "John Doe\n"
     ]
    }
   ],
   "source": [
    "#Eg of Concatenation. (\" \") used for space. (Using + operator)\n",
    "name1 = \"John\"\n",
    "name2 = \"Doe\"\n",
    "fullname = name1+\" \"+name2\n",
    "print(fullname)"
   ]
  },
  {
   "cell_type": "code",
   "execution_count": 313,
   "id": "a6e0915e-c76a-4760-bfac-19602ec3b21f",
   "metadata": {},
   "outputs": [
    {
     "name": "stdout",
     "output_type": "stream",
     "text": [
      "John Doe\n"
     ]
    }
   ],
   "source": [
    "#Eg of Concatenation. (Using join() method)\n",
    "name1 = \"John\"\n",
    "name2 = \"Doe\"\n",
    "print(\" \".join([name1, name2]))"
   ]
  },
  {
   "cell_type": "code",
   "execution_count": 319,
   "id": "0d33d9df-3dc5-4d12-ac3f-350f3761bff1",
   "metadata": {},
   "outputs": [
    {
     "name": "stdout",
     "output_type": "stream",
     "text": [
      "John Doe\n"
     ]
    }
   ],
   "source": [
    "#Eg of Concatenation. (Using join() method)\n",
    "name1 = \"John\"\n",
    "name2 = \"Doe\"\n",
    "print(\" \".join([name1, name2]))"
   ]
  },
  {
   "cell_type": "code",
   "execution_count": 325,
   "id": "71085f35-807b-414b-960f-72d79e5ffa1f",
   "metadata": {},
   "outputs": [
    {
     "name": "stdout",
     "output_type": "stream",
     "text": [
      "PythonPython\n"
     ]
    }
   ],
   "source": [
    "#Eg of Repetition\n",
    "str = \"Python\"\n",
    "print(str*2)"
   ]
  },
  {
   "cell_type": "markdown",
   "id": "57ee9bf8-45cd-4f38-882d-9a8f173c4fed",
   "metadata": {},
   "source": [
    "# Built in methods\n",
    "\n",
    "* capitalize () - Converts the first character to • uppercase and all other characters to lowercase\n",
    "* count(x) - Returns the number of times a specified value occurs in a string\n",
    "* find(x) - Searches the string for a specified • value and returns the position where it was found. If it is not found, it will return -1.\n",
    "* index(x) - Searches the string for a specified value and returns the index of position where it was found. If it is not found, it will throw an         Exception (error).\n",
    "* isalnum() - Returns True if all characters in the string are alphanumeric\n",
    "* isalpha() - Returns True if all characters in the string are in the alphabet\n",
    "* islower() - Returns True if all characters in the string are lower case\n",
    "* isupper() - Returns True if all characters in the string are upper case\n",
    "* join() - Joins the elements of an iterable to the end of the string\n",
    "* lower() - Converts a string into lower case\n",
    "* replace(a,b) - Returns a string where a • specified value is replaced with a specified value\n",
    "* strip() - Returns a trimmed version of the • string, that is, it removes the whitespaces from both the ends\n",
    "8 upper() - Converts a string into upper case"
   ]
  },
  {
   "cell_type": "code",
   "execution_count": 341,
   "id": "19448b07-2295-475f-b56d-47c23c8722f9",
   "metadata": {},
   "outputs": [
    {
     "name": "stdout",
     "output_type": "stream",
     "text": [
      "False\n",
      "False\n",
      "python\n",
      "PYTHON\n",
      "Aython\n",
      "Python\n",
      "True\n",
      "True\n"
     ]
    }
   ],
   "source": [
    "str=\"Python\"\n",
    "print(str.isupper())\n",
    "print(str.islower())\n",
    "print(str.lower())\n",
    "print(str.upper())\n",
    "print(str.replace('P','A'))\n",
    "print(str.strip())\n",
    "print(str.isalpha())\n",
    "print(str.isalnum())"
   ]
  },
  {
   "cell_type": "code",
   "execution_count": 343,
   "id": "f812dfb5-ddd1-4e4e-a93f-24334096b1f2",
   "metadata": {},
   "outputs": [
    {
     "name": "stdout",
     "output_type": "stream",
     "text": [
      "11\n"
     ]
    }
   ],
   "source": [
    "#Len() method : Returns the length of string\n",
    "str = \"Love Python\"\n",
    "print(len(str))\n"
   ]
  },
  {
   "cell_type": "code",
   "execution_count": 5,
   "id": "0d7cba9e-1c14-42a0-bae9-8b6b2db1df16",
   "metadata": {},
   "outputs": [
    {
     "name": "stdout",
     "output_type": "stream",
     "text": [
      "Hello\n",
      "World!\n"
     ]
    }
   ],
   "source": []
  },
  {
   "cell_type": "code",
   "execution_count": null,
   "id": "f61b2eed-bf9e-4144-82df-f158cd89f6c2",
   "metadata": {},
   "outputs": [],
   "source": []
  }
 ],
 "metadata": {
  "kernelspec": {
   "display_name": "Python 3 (ipykernel)",
   "language": "python",
   "name": "python3"
  },
  "language_info": {
   "codemirror_mode": {
    "name": "ipython",
    "version": 3
   },
   "file_extension": ".py",
   "mimetype": "text/x-python",
   "name": "python",
   "nbconvert_exporter": "python",
   "pygments_lexer": "ipython3",
   "version": "3.12.4"
  }
 },
 "nbformat": 4,
 "nbformat_minor": 5
}
