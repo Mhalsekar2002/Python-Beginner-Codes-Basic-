{
 "cells": [
  {
   "cell_type": "markdown",
   "id": "d0ed3637-a670-49fb-ac2e-e389fe2ddc86",
   "metadata": {},
   "source": [
    "# Dictionary\n",
    "* It allows to store data in 'key-value' pairs.Just like Eng dictionary book were 'keys' are the words and 'values' are the meaning of thiis word.\n",
    "* It is another data structure in python.\n",
    "\n",
    " Features of Dictionary are:-\n",
    "* It is unordered and mutable collections of items.\n",
    "* Each item of dictionary os key/value pair.\n",
    "* One can retrieve values when the key is known.\n",
    "* Each key in it is unique, while values can be repeated.\n",
    "* Values are identified by keys. \n",
    "\n",
    "* The key must be immutable data type such as strings, nums, or tuples.\n",
    "\n",
    "Sytnax:-\n",
    "* Each key is separated from its value by colon(:), items are separated by commas and the whole thing is enclosed is curly braces.\n",
    "\n",
    "* Empty dictionary is writen with just two curly braces{}."
   ]
  },
  {
   "cell_type": "code",
   "execution_count": 7,
   "id": "94f016a8-303c-47a7-a412-76c28b03a3c2",
   "metadata": {},
   "outputs": [],
   "source": [
    "# Eg od Empty Dictionary\n",
    "dict1 = {}\n",
    "\n",
    "#Eg of Dict with integer keys & string values\n",
    "dict2 = {1:\"Tom\", 2:\"John\"}"
   ]
  },
  {
   "cell_type": "code",
   "execution_count": 19,
   "id": "dfb33b99-0d3f-4927-9f4f-b731adcb2e42",
   "metadata": {},
   "outputs": [
    {
     "name": "stdout",
     "output_type": "stream",
     "text": [
      "{'John': 'Python', 'Tom': 'Java', 'Sam': ['Python', 'C++']}\n"
     ]
    }
   ],
   "source": [
    "#Eg of Dict\n",
    "studentsEnrolled ={\"John\":\"Python\",\n",
    "                   \"Tom\":\"Java\",\n",
    "                   \"Sam\":[\"Python\",\"C++\"]}\n",
    "print(studentsEnrolled) "
   ]
  },
  {
   "cell_type": "markdown",
   "id": "c286b0b9-de95-4ca7-a362-74837a767407",
   "metadata": {},
   "source": [
    "# Manipulating\n",
    "1) Accessing elements of a Dict:-\n",
    "* Keys cabn be used with square brackets[] or with get() method.\n",
    "* get() method returns none if the key is not found.\n",
    "\n",
    "2) Updating A Dict\n",
    "\n",
    "3) Deleting elements of a Dict"
   ]
  },
  {
   "cell_type": "code",
   "execution_count": 23,
   "id": "a44be071-2b4c-4962-9372-2b82bf866a2f",
   "metadata": {},
   "outputs": [
    {
     "name": "stdout",
     "output_type": "stream",
     "text": [
      "Tom\n",
      "John\n"
     ]
    }
   ],
   "source": [
    "#Eg of Accessing elements of a Dict\n",
    "eg = {1:\"Tom\", 2:\"John\"}\n",
    "print(eg [1])\n",
    "print(eg.get(2))"
   ]
  },
  {
   "cell_type": "code",
   "execution_count": 27,
   "id": "42fdd38b-af23-4e39-9735-90c5b7bc3126",
   "metadata": {},
   "outputs": [
    {
     "name": "stdout",
     "output_type": "stream",
     "text": [
      "{1: 'Ron', 2: 'John', 3: 'Sam'}\n"
     ]
    }
   ],
   "source": [
    "#Eg of Updating A Dict\n",
    "eg = {1:\"Tom\",2:\"John\"}\n",
    "eg [1]= \"Ron\"\n",
    "eg [3]= \"Sam\"\n",
    "print(eg)"
   ]
  },
  {
   "cell_type": "code",
   "execution_count": 3,
   "id": "d72da4ab-f00c-42c8-951b-cdcc99f2026a",
   "metadata": {},
   "outputs": [
    {
     "name": "stdout",
     "output_type": "stream",
     "text": [
      "{1: 'Tom'}\n"
     ]
    }
   ],
   "source": [
    "#Eg of Deleting elements of a Dict\n",
    "eg = {1:\"Tom\", 2:\"John\"}\n",
    "del eg[2]\n",
    "print(eg)"
   ]
  },
  {
   "cell_type": "markdown",
   "id": "318bf0c1-b822-4f1e-a65d-20e89dbd9e82",
   "metadata": {},
   "source": [
    "# Python provides various functions to manipulate the dictionary. A few of the important functions are,\n",
    "\n",
    "* keys(): It returns the list of dictionary keys\n",
    "* values(): It returns the list of dictionary values\n",
    "* clear(): It removes all elements of a dictionary, that is, make it an empty dictionary\n",
    "* get(key): It returns the value of the specified key. If the key does not exist, it returns None.\n",
    "* items(): It returns a list of dictionaries key- value pairs in tuple form\n",
    "* update(dict): It adds specified\n",
    "* dictionary (items) key-values pairs to the dictionary"
   ]
  },
  {
   "cell_type": "code",
   "execution_count": 13,
   "id": "dba21fc8-69f0-47f4-a032-017f2cf055af",
   "metadata": {},
   "outputs": [
    {
     "name": "stdout",
     "output_type": "stream",
     "text": [
      "dict_keys([101, 102, 103])\n",
      "dict_values(['Bravo', 'Tom', 'Sam'])\n",
      "dict_items([(101, 'Bravo'), (102, 'Tom'), (103, 'Sam')])\n",
      "{101: 'Bravo', 102: 'Tom', 103: 'Sam', 104: 'Om', 105: 'Ram'}\n"
     ]
    }
   ],
   "source": [
    "# Eg of Above\n",
    "empData={101:\"Bravo\",102:\"Tom\",103:\"Sam\"}\n",
    "print(empData.keys())\n",
    "print(empData.values())\n",
    "print(empData.items())\n",
    "empData.update({104:\"Om\",105:\"Ram\"})\n",
    "print(empData)"
   ]
  },
  {
   "cell_type": "markdown",
   "id": "450db686-6508-4876-a01d-0dd74c4d9723",
   "metadata": {},
   "source": [
    "# Append() and Remove() methods\n",
    "* Adding and removing particular values."
   ]
  },
  {
   "cell_type": "code",
   "execution_count": 19,
   "id": "1a631366-3507-414b-9209-4a287ee233fb",
   "metadata": {},
   "outputs": [
    {
     "name": "stdout",
     "output_type": "stream",
     "text": [
      "{'Asia': ['India', 'UAE', 'China', 'Japan']}\n",
      "{'Asia': ['India', 'UAE', 'Japan']}\n"
     ]
    }
   ],
   "source": [
    "#Eg of Append() and Remove()\n",
    "varDict = {\"Asia\": [\"India\", \"UAE\", \"China\"]}\n",
    "varDict[\"Asia\"].append(\"Japan\")\n",
    "print(varDict)\n",
    "varDict[\"Asia\"].remove(\"China\")\n",
    "print(varDict)"
   ]
  },
  {
   "cell_type": "code",
   "execution_count": 23,
   "id": "4fa52385-b926-4802-b48c-930f976df7aa",
   "metadata": {},
   "outputs": [
    {
     "name": "stdout",
     "output_type": "stream",
     "text": [
      "101\n",
      "102\n",
      "103\n"
     ]
    }
   ],
   "source": [
    "# Iterating over  a Dict\n",
    "#Eg 1 gives only keys\n",
    "empData={101:\"Bravo\",102:\"Tom\",103:\"Sam\"}\n",
    "for i in empData:\n",
    "    print(i)"
   ]
  },
  {
   "cell_type": "code",
   "execution_count": 25,
   "id": "157d7f63-3ee3-4f2d-b5cf-20bb3c7d3873",
   "metadata": {},
   "outputs": [
    {
     "name": "stdout",
     "output_type": "stream",
     "text": [
      "Bravo\n",
      "Tom\n",
      "Sam\n"
     ]
    }
   ],
   "source": [
    "#Eg 2 for getting values\n",
    "empData={101:\"Bravo\",102:\"Tom\",103:\"Sam\"}\n",
    "for i in empData.values():\n",
    "    print(i)"
   ]
  },
  {
   "cell_type": "code",
   "execution_count": 27,
   "id": "134fc7dd-6048-402f-a5e1-fa99b1d9cb59",
   "metadata": {},
   "outputs": [
    {
     "name": "stdout",
     "output_type": "stream",
     "text": [
      "(101, 'Bravo')\n",
      "(102, 'Tom')\n",
      "(103, 'Sam')\n"
     ]
    }
   ],
   "source": [
    "#Eg 3 for getting values and keys\n",
    "empData={101:\"Bravo\",102:\"Tom\",103:\"Sam\"}\n",
    "for i in empData.items():\n",
    "    print(i)"
   ]
  },
  {
   "cell_type": "code",
   "execution_count": null,
   "id": "faacad6d-8103-42d4-9f45-b625a3ae2a27",
   "metadata": {},
   "outputs": [],
   "source": []
  }
 ],
 "metadata": {
  "kernelspec": {
   "display_name": "Python 3 (ipykernel)",
   "language": "python",
   "name": "python3"
  },
  "language_info": {
   "codemirror_mode": {
    "name": "ipython",
    "version": 3
   },
   "file_extension": ".py",
   "mimetype": "text/x-python",
   "name": "python",
   "nbconvert_exporter": "python",
   "pygments_lexer": "ipython3",
   "version": "3.12.4"
  }
 },
 "nbformat": 4,
 "nbformat_minor": 5
}
