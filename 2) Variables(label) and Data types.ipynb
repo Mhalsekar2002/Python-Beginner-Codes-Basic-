{
 "cells": [
  {
   "cell_type": "code",
   "execution_count": 153,
   "id": "d7f873ee-672b-4da8-8132-97c77e467160",
   "metadata": {},
   "outputs": [
    {
     "name": "stdout",
     "output_type": "stream",
     "text": [
      "India\n"
     ]
    }
   ],
   "source": [
    "#Eg of Variable\n",
    "country = \"India\"\n",
    "print(country)"
   ]
  },
  {
   "cell_type": "markdown",
   "id": "f231e60a-60e6-4fc6-92d0-a3bddbbb999f",
   "metadata": {},
   "source": [
    "# Data Types :"
   ]
  },
  {
   "cell_type": "markdown",
   "id": "71bb052b-b8ba-4111-ac5a-036732502428",
   "metadata": {},
   "source": [
    "* 1)Numeric Types --> Sub-Types : (Integer, Complex nos, Float)\n",
    "* 2)SequenceTypes --> Sub-Types : (String, List, Tuples)\n",
    "* 3)Boolean\n",
    "* 4)Sets\n",
    "* 5)mapping Type(Dictionary)"
   ]
  },
  {
   "cell_type": "markdown",
   "id": "f96e6b1f-b4e8-480d-9dda-d918266aaaa2",
   "metadata": {},
   "source": [
    "# 1)Numeric Types "
   ]
  },
  {
   "cell_type": "code",
   "execution_count": 110,
   "id": "06f01066-c87d-4f63-b221-16552b84dfee",
   "metadata": {},
   "outputs": [],
   "source": [
    "#a)Integers(int)\n",
    "number = 5\n",
    "age = 26"
   ]
  },
  {
   "cell_type": "code",
   "execution_count": 112,
   "id": "6da9bfbc-a8e6-4f25-9eb6-54e99e46631c",
   "metadata": {},
   "outputs": [],
   "source": [
    "#b)Float(decimals)\n",
    "tempeature = 35.6\n",
    "rateofinterest = 2.5"
   ]
  },
  {
   "cell_type": "raw",
   "id": "a362bd3e-d785-4ea9-80ef-8c62345f948c",
   "metadata": {},
   "source": [
    "#c)Complex number(a+bj)\n",
    "Were, 'a+b' is Real part and 'j' is Imaginary part"
   ]
  },
  {
   "cell_type": "code",
   "execution_count": 119,
   "id": "36fa97d6-c163-4fcc-9f99-f1c63c905db7",
   "metadata": {},
   "outputs": [
    {
     "name": "stdout",
     "output_type": "stream",
     "text": [
      "(5+3j)\n"
     ]
    }
   ],
   "source": [
    "#Eg of Complex number\n",
    "number = 5+3j\n",
    "print(number)"
   ]
  },
  {
   "cell_type": "markdown",
   "id": "b7750f9c-7e69-4864-98ba-52ab84c090d7",
   "metadata": {},
   "source": [
    "# 2)String(Sequence of character, word, sentence)"
   ]
  },
  {
   "cell_type": "code",
   "execution_count": 135,
   "id": "35e70ff5-4fd4-4343-8d76-8fbdc85385c2",
   "metadata": {},
   "outputs": [
    {
     "name": "stdout",
     "output_type": "stream",
     "text": [
      "John\n",
      "Doe\n"
     ]
    }
   ],
   "source": [
    "#Eg of strings\n",
    "firstName = \"John\"\n",
    "lastName = \"Doe\"\n",
    "print(firstName)\n",
    "print(lastName)"
   ]
  },
  {
   "cell_type": "code",
   "execution_count": 143,
   "id": "35ca972a-bf26-4df5-9a68-aa752788028c",
   "metadata": {},
   "outputs": [
    {
     "name": "stdout",
     "output_type": "stream",
     "text": [
      "John Doe\n"
     ]
    }
   ],
   "source": [
    "#Eg of strings\n",
    "firstName = \"John\"\n",
    "lastName = \"Doe\"\n",
    "print(firstName,lastName)"
   ]
  },
  {
   "cell_type": "code",
   "execution_count": 149,
   "id": "db510679-73ed-4858-9ce4-a5c496bc4080",
   "metadata": {},
   "outputs": [
    {
     "name": "stdout",
     "output_type": "stream",
     "text": [
      " Always code as if the guy who ends up maintaining your code will be a violent psychopath who knows where you live. -John Woods \n"
     ]
    }
   ],
   "source": [
    "#Multi-Line String\n",
    "quote = \"\"\" Always code as if the guy who ends up maintaining your code will be a violent psychopath who knows where you live. -John Woods \"\"\"\n",
    "print(quote)"
   ]
  },
  {
   "cell_type": "markdown",
   "id": "d57bdf22-1a36-4280-a26e-a9d86c7bdee1",
   "metadata": {},
   "source": [
    "# 3)Boolean(Stores True or False values)(bool)"
   ]
  },
  {
   "cell_type": "code",
   "execution_count": 165,
   "id": "55181820-489d-4f37-9c40-cb8642531ec6",
   "metadata": {},
   "outputs": [
    {
     "name": "stdout",
     "output_type": "stream",
     "text": [
      "False\n",
      "True\n"
     ]
    }
   ],
   "source": [
    "#Eg of booleans\n",
    "print(6>8)\n",
    "print(6<8)"
   ]
  },
  {
   "cell_type": "markdown",
   "id": "0f9f5b87-3483-4afa-83c5-364da66c3bb2",
   "metadata": {},
   "source": [
    "# type() function"
   ]
  },
  {
   "cell_type": "code",
   "execution_count": 189,
   "id": "0e05d1a2-625d-4ce6-b52e-c6a48dfb610c",
   "metadata": {},
   "outputs": [
    {
     "name": "stdout",
     "output_type": "stream",
     "text": [
      "<class 'str'>\n",
      "<class 'int'>\n",
      "<class 'float'>\n"
     ]
    }
   ],
   "source": [
    "#Eg of type() function\n",
    "name = \"John\"\n",
    "age = 24\n",
    "weight = 54.3\n",
    "\n",
    "print(type(name))\n",
    "print(type(age))\n",
    "print(type(weight))"
   ]
  },
  {
   "cell_type": "markdown",
   "id": "79334164-e794-4c0b-a654-fe68ddaa99cf",
   "metadata": {},
   "source": [
    "# input() function"
   ]
  },
  {
   "cell_type": "code",
   "execution_count": 194,
   "id": "0811a545-a0ca-4727-86d1-2d4cfbbf7cbd",
   "metadata": {},
   "outputs": [
    {
     "name": "stdin",
     "output_type": "stream",
     "text": [
      "Please enter your name Pratham\n"
     ]
    },
    {
     "data": {
      "text/plain": [
       "'Pratham'"
      ]
     },
     "execution_count": 194,
     "metadata": {},
     "output_type": "execute_result"
    }
   ],
   "source": [
    "#Eg of input() function\n",
    "input(\"Please enter your name\")"
   ]
  },
  {
   "cell_type": "code",
   "execution_count": 218,
   "id": "1b0c109b-4e7b-4429-bb6b-e16eec51bad1",
   "metadata": {},
   "outputs": [
    {
     "name": "stdin",
     "output_type": "stream",
     "text": [
      "Please enter your name jj\n",
      "Please enter your age 88\n"
     ]
    },
    {
     "name": "stdout",
     "output_type": "stream",
     "text": [
      "<class 'str'>\n",
      "<class 'str'>\n"
     ]
    }
   ],
   "source": [
    "#Eg of input() function\n",
    "username = input(\"Please enter your name\")\n",
    "age = input(\"Please enter your age\")\n",
    "\n",
    "#Check the type\n",
    "print(type(username))\n",
    "print(type(age))"
   ]
  },
  {
   "cell_type": "markdown",
   "id": "d1e832e2-c5fa-45c7-82e0-6783312ed1ff",
   "metadata": {},
   "source": [
    "# Type Conversion"
   ]
  },
  {
   "cell_type": "code",
   "execution_count": 222,
   "id": "03d3aa04-d798-446a-866d-c28739bda55d",
   "metadata": {},
   "outputs": [
    {
     "name": "stdin",
     "output_type": "stream",
     "text": [
      "Please enter your age 888\n"
     ]
    },
    {
     "name": "stdout",
     "output_type": "stream",
     "text": [
      "888\n",
      "<class 'int'>\n"
     ]
    }
   ],
   "source": [
    "age =int(input(\"Please enter your age\"))\n",
    "print(age)\n",
    "\n",
    "#Check the type\n",
    "print(type(age))"
   ]
  },
  {
   "cell_type": "code",
   "execution_count": null,
   "id": "cd914ea4-6041-4bbe-a8f0-2659848581da",
   "metadata": {},
   "outputs": [],
   "source": []
  },
  {
   "cell_type": "code",
   "execution_count": null,
   "id": "102ee06b-02c2-47bc-bae8-4216dce785f5",
   "metadata": {},
   "outputs": [],
   "source": []
  }
 ],
 "metadata": {
  "kernelspec": {
   "display_name": "Python 3 (ipykernel)",
   "language": "python",
   "name": "python3"
  },
  "language_info": {
   "codemirror_mode": {
    "name": "ipython",
    "version": 3
   },
   "file_extension": ".py",
   "mimetype": "text/x-python",
   "name": "python",
   "nbconvert_exporter": "python",
   "pygments_lexer": "ipython3",
   "version": "3.12.4"
  }
 },
 "nbformat": 4,
 "nbformat_minor": 5
}
