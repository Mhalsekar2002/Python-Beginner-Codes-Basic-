{
 "cells": [
  {
   "cell_type": "markdown",
   "id": "ac066cbb-b927-4d80-a7a7-c12335a194cf",
   "metadata": {},
   "source": [
    "# Functions\n",
    "It helps us to group similar tasks, can be reused & they get executed only when they are called, that is whenever you wish them to execute.\n",
    "\n",
    "# Let's understand functions technically:-\n",
    "- A function is a block of code that performs a particular task and may accept optional user inputs and accordingly give outputs.\n",
    "- This block of code is responsible for a particular task and only executes when they are called, which is in simple words when we want them to execute.\n",
    "- This block of code is written once and can be executed 'n' number of times (whenever required).\n",
    "\n",
    "# Reusablity :\n",
    "- It simply refers to reusing a particular code, rather than writing the code again.\n",
    "- Thus, functions allow us to reuse a particular block of code and promote the idea of, 'Write Once, Execute Anytime'.\n",
    "\n",
    "# Syntx of Funtion:-\n",
    "* def function_name(parameter1, parameter2,...):\n",
    "//block of code\n",
    "return statement\n",
    "\n",
    "# key pts of functions:-\n",
    "* 'def' keyword is used to define a function.\n",
    "* def keyword is followed by the name of Functions and Parenthesis().\n",
    "* Give meaningful name to functn like variable name.\n",
    "* The parenthesis may contain optional input parameters.Parameters are basically the medium through which we pass value to functn.\n",
    "* Colon(:) marks the end of functn header.\n",
    "* Once the function header is defined, we can define the function body that may contain one or more Python statements.\n",
    "* These statements must be indented so that its makes a block of code.\n",
    "* Finally, we can have an optional return statement to return a value from the functn.\n",
    "\n",
    "# Calling Function:-\n",
    "* To call and execute a functn we can simply write the function name with appropriate parameters.\n",
    "* Syntax:\n",
    "function_name()\n",
    "or\n",
    "function_name(parameter1, parameter2,...)"
   ]
  },
  {
   "cell_type": "code",
   "execution_count": 19,
   "id": "2312d4d0-0173-4b78-87fe-0c96b92f3a76",
   "metadata": {},
   "outputs": [
    {
     "name": "stdout",
     "output_type": "stream",
     "text": [
      "Hello\n"
     ]
    }
   ],
   "source": [
    "# Eg of Functions\n",
    "def SayHello():\n",
    "     print(\"Hello\")\n",
    "SayHello()\n",
    "\n",
    "# We know, the def keyword is used to define a function.\n",
    "# Here, SayHello() is the name of the function, and since we do not pass anything inside the parenthesis, the function does not require any parameters.\n",
    "# print(\"Hello\") is the block of code for the function SayHello(). The functionality of the function is that it will print Hello whenever called.\n",
    "# Since we are not returning any value, we don't have a return statement.\n",
    "# Finally, sayHello() is the function call that executes the function and prints Hello on the output screen."
   ]
  },
  {
   "cell_type": "code",
   "execution_count": 25,
   "id": "103f6328-d31f-4761-871b-113f2728a149",
   "metadata": {},
   "outputs": [
    {
     "name": "stdout",
     "output_type": "stream",
     "text": [
      "Hello John\n"
     ]
    }
   ],
   "source": [
    "# Above Eg modified\n",
    "def SayHello(name):\n",
    "     print(\"Hello\",name)\n",
    "SayHello(\"John\")\n",
    "\n",
    "# The basic structure remains the same.\n",
    "# Since here we need to pass a value, that is the username, we will pass the parameter called 'name' that will hold the passed value.\n",
    "# We will use this parameter in our function body to customize the output.\n",
    "# Finally, we will call the function. Remember, this time the function is expecting a value, thus we will need to pass the username when we call the function.\n",
    "# Failing to do so will result in an error."
   ]
  },
  {
   "cell_type": "code",
   "execution_count": 59,
   "id": "0a1ab516-627b-4436-816b-2542092dd123",
   "metadata": {},
   "outputs": [
    {
     "name": "stdout",
     "output_type": "stream",
     "text": [
      "8\n"
     ]
    }
   ],
   "source": [
    "# Eg of Functn\n",
    "def addNumbers(num1,num2):\n",
    "     num3 = num1 + num2\n",
    "     return num3\n",
    "print(addNumbers(5,3))"
   ]
  },
  {
   "cell_type": "code",
   "execution_count": 63,
   "id": "3bbb5c82-c2bd-4afb-a676-4a83d5b01bab",
   "metadata": {},
   "outputs": [
    {
     "name": "stdout",
     "output_type": "stream",
     "text": [
      "11\n"
     ]
    }
   ],
   "source": [
    "# Eg of Functn\n",
    "def add(a, b):\n",
    "    return a + b\n",
    "print(add(5, 6))"
   ]
  },
  {
   "cell_type": "raw",
   "id": "90e0af7c-b79d-4884-a597-4cb728d25fcf",
   "metadata": {},
   "source": [
    "# Parameters and Arguments\n",
    "* Parameters is variable inside parenthesis in functn def.\n",
    "* Arguments are value when functn is called.\n",
    "Exaample:-\n",
    "*Functn Definition\n",
    "def add(a,b):  (Parameters)\n",
    "    return a+b\n",
    "*Functn called    \n",
    "    add(2,3)   (Arguments)"
   ]
  },
  {
   "cell_type": "code",
   "execution_count": 26,
   "id": "cb7ebb85-3537-41d1-a6fd-ed494a33c6c7",
   "metadata": {},
   "outputs": [
    {
     "name": "stdout",
     "output_type": "stream",
     "text": [
      "Hello Tom\n"
     ]
    }
   ],
   "source": [
    "# Eg of Arguments\n",
    "def sayHello(name):\n",
    "    print(\"Hello\",name)\n",
    "sayHello(\"Tom\")"
   ]
  },
  {
   "cell_type": "code",
   "execution_count": 34,
   "id": "06a3f1de-153d-473a-bccb-93e176fea70d",
   "metadata": {},
   "outputs": [
    {
     "name": "stdout",
     "output_type": "stream",
     "text": [
      "Hello User\n"
     ]
    }
   ],
   "source": [
    "# Eg of default argument using (=) assignment operator\n",
    "def sayHello(name=\"User\"):\n",
    "    print(\"Hello\",name)\n",
    "sayHello()"
   ]
  },
  {
   "cell_type": "markdown",
   "id": "97103ba0-e2b6-4e16-9dfd-e6de80cbb116",
   "metadata": {},
   "source": [
    "# Lambda Funtion\n",
    "* They do not have name, they are also called as anonymous functions.\n",
    "* They are used using lambda keyword.\n",
    "* Structure of Lambda Functn:-\n",
    "  lambda arguments:expression\n",
    "* It can take any num of arguments, but they contain single expression.\n",
    "* An expression is a piece of code executed by the lamda functn, which may or may not return any value.\n",
    "* It is restricted to single expression.\n",
    "* It does not use the return keyword."
   ]
  },
  {
   "cell_type": "code",
   "execution_count": 42,
   "id": "3701bd96-5468-4c2d-a9fd-fb758af8c8a5",
   "metadata": {},
   "outputs": [
    {
     "data": {
      "text/plain": [
       "<function __main__.<lambda>(num1, num2)>"
      ]
     },
     "execution_count": 42,
     "metadata": {},
     "output_type": "execute_result"
    }
   ],
   "source": [
    "# Eg of lambda Functn\n",
    "lambda num1,num2 : num1 + num2"
   ]
  },
  {
   "cell_type": "code",
   "execution_count": 44,
   "id": "bad1ce2d-cdb1-4760-a240-d0d7f66d5585",
   "metadata": {},
   "outputs": [
    {
     "name": "stdout",
     "output_type": "stream",
     "text": [
      "10\n"
     ]
    }
   ],
   "source": [
    "# Eg of Calling lambda Functn\n",
    "add = lambda num1,num2 : num1 + num2\n",
    "print(add(4,6))"
   ]
  },
  {
   "cell_type": "code",
   "execution_count": null,
   "id": "02200bff-7f3b-41c2-9d09-49d6d2ade4c4",
   "metadata": {},
   "outputs": [],
   "source": []
  }
 ],
 "metadata": {
  "kernelspec": {
   "display_name": "Python 3 (ipykernel)",
   "language": "python",
   "name": "python3"
  },
  "language_info": {
   "codemirror_mode": {
    "name": "ipython",
    "version": 3
   },
   "file_extension": ".py",
   "mimetype": "text/x-python",
   "name": "python",
   "nbconvert_exporter": "python",
   "pygments_lexer": "ipython3",
   "version": "3.12.4"
  }
 },
 "nbformat": 4,
 "nbformat_minor": 5
}
